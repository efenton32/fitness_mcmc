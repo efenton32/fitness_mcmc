{
 "cells": [
  {
   "cell_type": "markdown",
   "id": "3d4cbf35-3917-4e2f-9940-c58adb99e38b",
   "metadata": {},
   "source": [
    "# Fitness MCMC Documentation Notebook"
   ]
  },
  {
   "cell_type": "code",
   "execution_count": 8,
   "id": "1fc72457",
   "metadata": {},
   "outputs": [],
   "source": [
    "#Standard Imports\n",
    "import numpy as np\n",
    "import pymc3 as pm\n",
    "import pandas as pd\n",
    "import matplotlib.pyplot as plt\n",
    "import seaborn as sns\n",
    "import arviz as az"
   ]
  },
  {
   "cell_type": "code",
   "execution_count": 9,
   "id": "c00950b6-d44e-456f-b00d-da60ba9facff",
   "metadata": {},
   "outputs": [],
   "source": [
    "#Imports from fitness mcmc package \n",
    "import fitness_mcmc\n",
    "import fitness_mcmc.data_io as io \n",
    "import fitness_mcmc.fitness_mcmc as m"
   ]
  },
  {
   "cell_type": "markdown",
   "id": "9e91f577-f7a8-4397-8d40-4a8417bd9aa4",
   "metadata": {},
   "source": [
    "### Looking at the data"
   ]
  },
  {
   "cell_type": "markdown",
   "id": "5493f62d-bf71-487e-81cf-e014a5213cb3",
   "metadata": {},
   "source": [
    "The function `load_data` in `data_io.py` returns a pandas dataframe of the raw data (i.e. `data`), a numpy array of time generations (i.e. `time`), and a numpy array of arrays of ordered frequencies (i.e. `ordered_frequencies`) where the order is determined by the number of counts. "
   ]
  },
  {
   "cell_type": "code",
   "execution_count": 10,
   "id": "971601ae",
   "metadata": {},
   "outputs": [
    {
     "name": "stdout",
     "output_type": "stream",
     "text": [
      "[[[ 52451]\n",
      "  [ 50294]\n",
      "  [151978]\n",
      "  [177477]\n",
      "  [216679]]\n",
      "\n",
      " [[ 15607]\n",
      "  [ 15010]\n",
      "  [ 43410]\n",
      "  [ 48756]\n",
      "  [ 58213]]\n",
      "\n",
      " [[ 16176]\n",
      "  [ 13409]\n",
      "  [ 36022]\n",
      "  [ 33824]\n",
      "  [ 42689]]\n",
      "\n",
      " ...\n",
      "\n",
      " [[     8]\n",
      "  [     1]\n",
      "  [     0]\n",
      "  [     0]\n",
      "  [     0]]\n",
      "\n",
      " [[     9]\n",
      "  [     0]\n",
      "  [     0]\n",
      "  [     0]\n",
      "  [     0]]\n",
      "\n",
      " [[     4]\n",
      "  [     1]\n",
      "  [     0]\n",
      "  [     0]\n",
      "  [     0]]]\n",
      "                                    BC      5     10      25      40      45\n",
      "668  AGAGTGACTTTCGGAC_TACGAGTAATCGCAAG  52451  50294  151978  177477  216679\n",
      "495  TAGATCAACACAAAGT_AGCTGTACACCCTGCA  15607  15010   43410   48756   58213\n",
      "617  GTTTGGCGAAACTGCA_TCTGGTCAACTGCAAA  16176  13409   36022   33824   42689\n",
      "686  CCAACCCGAATAAATC_ACCATAGGGATAACTG  22295  19714   24746   22596   19846\n",
      "218  CGATCAAACGTAGAAA_AGAAAGATGGTGGAAT  17669  13734   22203   22902   31581\n",
      "..                                 ...    ...    ...     ...     ...     ...\n",
      "21   GGTTCTACGATTGTGA_AAGGTTATGAATCATA     13      4       0       0       0\n",
      "375  CAATTAGTCGCTATAG_AGCACAATTGAGGACA     10      1       0       0       0\n",
      "192  CTCACCGTACAACCGG_AGATAGTTAAAATAAA      8      1       0       0       0\n",
      "501  TTTCATCGCATACGAG_CTTGACAAAGAAGGAG      9      0       0       0       0\n",
      "347  AAGACAATAGAAACAT_TAGGATGGAATGAGTA      4      1       0       0       0\n",
      "\n",
      "[723 rows x 6 columns]\n"
     ]
    }
   ],
   "source": [
    "\"\"\"\n",
    "Loading data and looking at the first 40 ordered genotypes. \n",
    "\"\"\"\n",
    "data, time, ordered_counts = io.load_data(\"filtered_counts_ypd_temp_30.txt\", return_ordered = True)\n",
    "print(ordered_counts.astype(\"int\"))\n",
    "print(data)"
   ]
  },
  {
   "cell_type": "markdown",
   "id": "b11cc9ac-6a23-4d69-b4a9-3e64d01cb99b",
   "metadata": {},
   "source": [
    "The first row `5, 10, 25, 40, 45` shows the generations where genotypes are sampled. The values under the generation represent counts - the number of each genotype alive. The frequency metadata is calculated by normalizing the counts per generation sample and then they are ordered by genotype with the most total counts across all generations. That is what ordered frequencies represents. "
   ]
  },
  {
   "cell_type": "code",
   "execution_count": 11,
   "id": "490e5e15-1090-4175-a047-6b1b526c45ab",
   "metadata": {},
   "outputs": [
    {
     "ename": "ValueError",
     "evalue": "x and y must have same first dimension, but have shapes (5,) and (1, 5, 723)",
     "output_type": "error",
     "traceback": [
      "\u001B[1;31m---------------------------------------------------------------------------\u001B[0m",
      "\u001B[1;31mValueError\u001B[0m                                Traceback (most recent call last)",
      "Cell \u001B[1;32mIn[11], line 3\u001B[0m\n\u001B[0;32m      1\u001B[0m ordered_frequencies \u001B[38;5;241m=\u001B[39m ordered_counts \u001B[38;5;241m/\u001B[39m np\u001B[38;5;241m.\u001B[39msum(ordered_counts, axis \u001B[38;5;241m=\u001B[39m \u001B[38;5;241m0\u001B[39m)\n\u001B[1;32m----> 3\u001B[0m \u001B[43mplt\u001B[49m\u001B[38;5;241;43m.\u001B[39;49m\u001B[43mplot\u001B[49m\u001B[43m(\u001B[49m\u001B[43m[\u001B[49m\u001B[38;5;241;43m5\u001B[39;49m\u001B[43m,\u001B[49m\u001B[38;5;241;43m10\u001B[39;49m\u001B[43m,\u001B[49m\u001B[38;5;241;43m25\u001B[39;49m\u001B[43m,\u001B[49m\u001B[38;5;241;43m40\u001B[39;49m\u001B[43m,\u001B[49m\u001B[38;5;241;43m45\u001B[39;49m\u001B[43m]\u001B[49m\u001B[43m,\u001B[49m\u001B[43m \u001B[49m\u001B[43mordered_frequencies\u001B[49m\u001B[38;5;241;43m.\u001B[39;49m\u001B[43mT\u001B[49m\u001B[43m)\u001B[49m;\n\u001B[0;32m      4\u001B[0m plt\u001B[38;5;241m.\u001B[39mxlabel(\u001B[38;5;124m'\u001B[39m\u001B[38;5;124mTime (generations)\u001B[39m\u001B[38;5;124m'\u001B[39m)\n\u001B[0;32m      5\u001B[0m plt\u001B[38;5;241m.\u001B[39mylabel(\u001B[38;5;124m'\u001B[39m\u001B[38;5;124mFrequency\u001B[39m\u001B[38;5;124m'\u001B[39m)\n",
      "File \u001B[1;32m~\\anaconda3\\envs\\Fitness_code\\lib\\site-packages\\matplotlib\\pyplot.py:2740\u001B[0m, in \u001B[0;36mplot\u001B[1;34m(scalex, scaley, data, *args, **kwargs)\u001B[0m\n\u001B[0;32m   2738\u001B[0m \u001B[38;5;129m@_copy_docstring_and_deprecators\u001B[39m(Axes\u001B[38;5;241m.\u001B[39mplot)\n\u001B[0;32m   2739\u001B[0m \u001B[38;5;28;01mdef\u001B[39;00m \u001B[38;5;21mplot\u001B[39m(\u001B[38;5;241m*\u001B[39margs, scalex\u001B[38;5;241m=\u001B[39m\u001B[38;5;28;01mTrue\u001B[39;00m, scaley\u001B[38;5;241m=\u001B[39m\u001B[38;5;28;01mTrue\u001B[39;00m, data\u001B[38;5;241m=\u001B[39m\u001B[38;5;28;01mNone\u001B[39;00m, \u001B[38;5;241m*\u001B[39m\u001B[38;5;241m*\u001B[39mkwargs):\n\u001B[1;32m-> 2740\u001B[0m     \u001B[38;5;28;01mreturn\u001B[39;00m gca()\u001B[38;5;241m.\u001B[39mplot(\n\u001B[0;32m   2741\u001B[0m         \u001B[38;5;241m*\u001B[39margs, scalex\u001B[38;5;241m=\u001B[39mscalex, scaley\u001B[38;5;241m=\u001B[39mscaley,\n\u001B[0;32m   2742\u001B[0m         \u001B[38;5;241m*\u001B[39m\u001B[38;5;241m*\u001B[39m({\u001B[38;5;124m\"\u001B[39m\u001B[38;5;124mdata\u001B[39m\u001B[38;5;124m\"\u001B[39m: data} \u001B[38;5;28;01mif\u001B[39;00m data \u001B[38;5;129;01mis\u001B[39;00m \u001B[38;5;129;01mnot\u001B[39;00m \u001B[38;5;28;01mNone\u001B[39;00m \u001B[38;5;28;01melse\u001B[39;00m {}), \u001B[38;5;241m*\u001B[39m\u001B[38;5;241m*\u001B[39mkwargs)\n",
      "File \u001B[1;32m~\\anaconda3\\envs\\Fitness_code\\lib\\site-packages\\matplotlib\\axes\\_axes.py:1662\u001B[0m, in \u001B[0;36mAxes.plot\u001B[1;34m(self, scalex, scaley, data, *args, **kwargs)\u001B[0m\n\u001B[0;32m   1419\u001B[0m \u001B[38;5;124;03m\"\"\"\u001B[39;00m\n\u001B[0;32m   1420\u001B[0m \u001B[38;5;124;03mPlot y versus x as lines and/or markers.\u001B[39;00m\n\u001B[0;32m   1421\u001B[0m \n\u001B[1;32m   (...)\u001B[0m\n\u001B[0;32m   1659\u001B[0m \u001B[38;5;124;03m(``'green'``) or hex strings (``'#008000'``).\u001B[39;00m\n\u001B[0;32m   1660\u001B[0m \u001B[38;5;124;03m\"\"\"\u001B[39;00m\n\u001B[0;32m   1661\u001B[0m kwargs \u001B[38;5;241m=\u001B[39m cbook\u001B[38;5;241m.\u001B[39mnormalize_kwargs(kwargs, mlines\u001B[38;5;241m.\u001B[39mLine2D)\n\u001B[1;32m-> 1662\u001B[0m lines \u001B[38;5;241m=\u001B[39m [\u001B[38;5;241m*\u001B[39m\u001B[38;5;28mself\u001B[39m\u001B[38;5;241m.\u001B[39m_get_lines(\u001B[38;5;241m*\u001B[39margs, data\u001B[38;5;241m=\u001B[39mdata, \u001B[38;5;241m*\u001B[39m\u001B[38;5;241m*\u001B[39mkwargs)]\n\u001B[0;32m   1663\u001B[0m \u001B[38;5;28;01mfor\u001B[39;00m line \u001B[38;5;129;01min\u001B[39;00m lines:\n\u001B[0;32m   1664\u001B[0m     \u001B[38;5;28mself\u001B[39m\u001B[38;5;241m.\u001B[39madd_line(line)\n",
      "File \u001B[1;32m~\\anaconda3\\envs\\Fitness_code\\lib\\site-packages\\matplotlib\\axes\\_base.py:311\u001B[0m, in \u001B[0;36m_process_plot_var_args.__call__\u001B[1;34m(self, data, *args, **kwargs)\u001B[0m\n\u001B[0;32m    309\u001B[0m     this \u001B[38;5;241m+\u001B[39m\u001B[38;5;241m=\u001B[39m args[\u001B[38;5;241m0\u001B[39m],\n\u001B[0;32m    310\u001B[0m     args \u001B[38;5;241m=\u001B[39m args[\u001B[38;5;241m1\u001B[39m:]\n\u001B[1;32m--> 311\u001B[0m \u001B[38;5;28;01myield from\u001B[39;00m \u001B[38;5;28;43mself\u001B[39;49m\u001B[38;5;241;43m.\u001B[39;49m\u001B[43m_plot_args\u001B[49m\u001B[43m(\u001B[49m\n\u001B[0;32m    312\u001B[0m \u001B[43m    \u001B[49m\u001B[43mthis\u001B[49m\u001B[43m,\u001B[49m\u001B[43m \u001B[49m\u001B[43mkwargs\u001B[49m\u001B[43m,\u001B[49m\u001B[43m \u001B[49m\u001B[43mambiguous_fmt_datakey\u001B[49m\u001B[38;5;241;43m=\u001B[39;49m\u001B[43mambiguous_fmt_datakey\u001B[49m\u001B[43m)\u001B[49m\n",
      "File \u001B[1;32m~\\anaconda3\\envs\\Fitness_code\\lib\\site-packages\\matplotlib\\axes\\_base.py:504\u001B[0m, in \u001B[0;36m_process_plot_var_args._plot_args\u001B[1;34m(self, tup, kwargs, return_kwargs, ambiguous_fmt_datakey)\u001B[0m\n\u001B[0;32m    501\u001B[0m     \u001B[38;5;28mself\u001B[39m\u001B[38;5;241m.\u001B[39maxes\u001B[38;5;241m.\u001B[39myaxis\u001B[38;5;241m.\u001B[39mupdate_units(y)\n\u001B[0;32m    503\u001B[0m \u001B[38;5;28;01mif\u001B[39;00m x\u001B[38;5;241m.\u001B[39mshape[\u001B[38;5;241m0\u001B[39m] \u001B[38;5;241m!=\u001B[39m y\u001B[38;5;241m.\u001B[39mshape[\u001B[38;5;241m0\u001B[39m]:\n\u001B[1;32m--> 504\u001B[0m     \u001B[38;5;28;01mraise\u001B[39;00m \u001B[38;5;167;01mValueError\u001B[39;00m(\u001B[38;5;124mf\u001B[39m\u001B[38;5;124m\"\u001B[39m\u001B[38;5;124mx and y must have same first dimension, but \u001B[39m\u001B[38;5;124m\"\u001B[39m\n\u001B[0;32m    505\u001B[0m                      \u001B[38;5;124mf\u001B[39m\u001B[38;5;124m\"\u001B[39m\u001B[38;5;124mhave shapes \u001B[39m\u001B[38;5;132;01m{\u001B[39;00mx\u001B[38;5;241m.\u001B[39mshape\u001B[38;5;132;01m}\u001B[39;00m\u001B[38;5;124m and \u001B[39m\u001B[38;5;132;01m{\u001B[39;00my\u001B[38;5;241m.\u001B[39mshape\u001B[38;5;132;01m}\u001B[39;00m\u001B[38;5;124m\"\u001B[39m)\n\u001B[0;32m    506\u001B[0m \u001B[38;5;28;01mif\u001B[39;00m x\u001B[38;5;241m.\u001B[39mndim \u001B[38;5;241m>\u001B[39m \u001B[38;5;241m2\u001B[39m \u001B[38;5;129;01mor\u001B[39;00m y\u001B[38;5;241m.\u001B[39mndim \u001B[38;5;241m>\u001B[39m \u001B[38;5;241m2\u001B[39m:\n\u001B[0;32m    507\u001B[0m     \u001B[38;5;28;01mraise\u001B[39;00m \u001B[38;5;167;01mValueError\u001B[39;00m(\u001B[38;5;124mf\u001B[39m\u001B[38;5;124m\"\u001B[39m\u001B[38;5;124mx and y can be no greater than 2D, but have \u001B[39m\u001B[38;5;124m\"\u001B[39m\n\u001B[0;32m    508\u001B[0m                      \u001B[38;5;124mf\u001B[39m\u001B[38;5;124m\"\u001B[39m\u001B[38;5;124mshapes \u001B[39m\u001B[38;5;132;01m{\u001B[39;00mx\u001B[38;5;241m.\u001B[39mshape\u001B[38;5;132;01m}\u001B[39;00m\u001B[38;5;124m and \u001B[39m\u001B[38;5;132;01m{\u001B[39;00my\u001B[38;5;241m.\u001B[39mshape\u001B[38;5;132;01m}\u001B[39;00m\u001B[38;5;124m\"\u001B[39m)\n",
      "\u001B[1;31mValueError\u001B[0m: x and y must have same first dimension, but have shapes (5,) and (1, 5, 723)"
     ]
    },
    {
     "data": {
      "text/plain": "<Figure size 640x480 with 1 Axes>",
      "image/png": "[encoded data removed]"
     },
     "metadata": {},
     "output_type": "display_data"
    }
   ],
   "source": [
    "ordered_frequencies = ordered_counts / np.sum(ordered_counts, axis = 0)\n",
    "\n",
    "plt.plot([5,10,25,40,45], ordered_frequencies.T);\n",
    "plt.xlabel('Time (generations)')\n",
    "plt.ylabel('Frequency')\n",
    "plt.show()"
   ]
  },
  {
   "cell_type": "markdown",
   "id": "b8239dea-cbbb-49b5-bfb0-1399198d13f1",
   "metadata": {},
   "source": [
    "A visual Plot of the data below. Each line indicates a lineage or a genotype (e.g. a series of CCAAA...). "
   ]
  },
  {
   "cell_type": "markdown",
   "id": "9f38879c-5e42-4bd0-ac82-25023f5233fa",
   "metadata": {},
   "source": [
    "## Doing some inference on subset of real data"
   ]
  },
  {
   "cell_type": "markdown",
   "id": "2efbceea-b762-4663-9485-2672b624295a",
   "metadata": {},
   "source": [
    "We take our fitness model object and give it our ordered frequencies, metadata generated earlier, and the time generations. Calling `find_MAP()`, we and then plotting we see how well our reconstructed model compares to the actual data in a linear plot of frequencies vs generations. "
   ]
  },
  {
   "cell_type": "code",
   "execution_count": null,
   "id": "0faf8c6a-83e2-4b98-a234-d73c4915eece",
   "metadata": {},
   "outputs": [],
   "source": [
    "fitness_model = m.Fitness_Model(ordered_counts, time, s_ref = 0)\n",
    "fitness_model.find_MAP()"
   ]
  },
  {
   "cell_type": "code",
   "execution_count": null,
   "id": "65b3ad55",
   "metadata": {},
   "outputs": [],
   "source": [
    "fitness_model.plot_MAP_estimate(type = \"lin\")\n"
   ]
  },
  {
   "cell_type": "markdown",
   "id": "b9a6c12f-3d05-4ae8-b4e1-cdc502444e51",
   "metadata": {},
   "source": [
    "## Doing inference with MCMC on real data"
   ]
  },
  {
   "cell_type": "markdown",
   "id": "2c35fb35-fa3b-4473-a388-3ac594469430",
   "metadata": {},
   "source": [
    "Completing MCMC to generate quantitative understanding of the uncerainities on our estimated fitness and intial frequency values. (Using a subset of our real data) "
   ]
  },
  {
   "cell_type": "code",
   "execution_count": null,
   "id": "a79047dd",
   "metadata": {},
   "outputs": [],
   "source": [
    "fitness_model.mcmc_sample(draws = 4000, tune = 8000)"
   ]
  },
  {
   "cell_type": "code",
   "execution_count": null,
   "id": "7529fd25-4b04-4cab-8a79-3170a342d3c8",
   "metadata": {},
   "outputs": [],
   "source": [
    "# fitness_model.plot_mcmc_trace()"
   ]
  },
  {
   "cell_type": "markdown",
   "id": "346db2ec-20e1-437e-b036-ef1cfb1d0cc2",
   "metadata": {},
   "source": [
    "The mcmc trace provides an insight into the distribution of s and $f_{0}$ values. "
   ]
  },
  {
   "cell_type": "code",
   "execution_count": null,
   "id": "0c4cf626",
   "metadata": {},
   "outputs": [],
   "source": [
    "# fitness_model.plot_mcmc_posterior()"
   ]
  },
  {
   "cell_type": "markdown",
   "id": "3a59c9da-67e9-4ce0-a79e-25110f427506",
   "metadata": {},
   "source": [
    "The distribution of fitness values for real data."
   ]
  },
  {
   "cell_type": "code",
   "execution_count": null,
   "id": "04fc6258-43ef-4e07-af41-4b5462ba5b78",
   "metadata": {},
   "outputs": [],
   "source": [
    "df = fitness_model.trace.to_dataframe()"
   ]
  },
  {
   "cell_type": "code",
   "execution_count": null,
   "id": "d52378be-8ad7-404c-b801-aef31124fb5c",
   "metadata": {},
   "outputs": [],
   "source": [
    "df.columns = range(df.shape[1])\n",
    "df_fitnesses = df.iloc[:,2:724]\n",
    "df_priors = df.iloc[:,724:726]\n",
    "df_frequencies = df.iloc[:,726:1449]\n",
    "df_fitnesses.columns = [\"fitness lineage {}\".format(i) for i in range(1,723)]\n",
    "df_frequencies.columns = [\"f0 lineage {}\".format(i) for i in range(0,723)]\n",
    "df_priors.columns = [\"mu\", \"sigma\"]\n"
   ]
  },
  {
   "cell_type": "code",
   "execution_count": null,
   "id": "52e853f7-f313-4c83-a589-18322bb6f9aa",
   "metadata": {},
   "outputs": [],
   "source": [
    "new_df = pd.concat([df_fitnesses.iloc[:,0:2],df_frequencies.iloc[:,0:3]],axis =1)\n",
    "sns.pairplot(new_df, markers='.');"
   ]
  },
  {
   "cell_type": "code",
   "execution_count": null,
   "id": "0caff3e8-c560-42a9-99e5-c0d6fd60d77c",
   "metadata": {},
   "outputs": [],
   "source": [
    "new_df = pd.concat([df_fitnesses.iloc[:,0:2], df_priors], axis =1)\n",
    "sns.pairplot(new_df, markers='.');"
   ]
  },
  {
   "cell_type": "code",
   "execution_count": null,
   "id": "5fdae175-1c64-4f54-8052-65181e1a7c88",
   "metadata": {},
   "outputs": [],
   "source": [
    "new_df = pd.concat([df_fitnesses.iloc[:,720:], df_priors], axis =1)\n",
    "sns.pairplot(new_df, markers='.');"
   ]
  },
  {
   "cell_type": "markdown",
   "id": "b2d27fa7-036f-475c-9911-832824085f18",
   "metadata": {},
   "source": [
    "## Doing inference on simulated data  "
   ]
  },
  {
   "cell_type": "markdown",
   "id": "31d2b9e3-b9be-41ae-ad78-5f6c56da488c",
   "metadata": {
    "tags": []
   },
   "source": [
    "We compare the fitted functions with the simulated data. "
   ]
  },
  {
   "cell_type": "code",
   "execution_count": null,
   "id": "8c4dd834",
   "metadata": {
    "tags": []
   },
   "outputs": [],
   "source": [
    "#simulated data \n",
    "data, time, ordered_counts, s_vals, f0_vals = io.load_data(\"simulated_data_1.txt\", \n",
    "                                                           data_dir = \"simulated_data\",\n",
    "                                                           load_metadata = True)\n",
    "simulated_model = m.Fitness_Model(ordered_counts, time)\n",
    "true_trajectories = m.create_trajectories(f0_vals, s_vals, [5,10,25,40,45])\n",
    "simulated_model.find_MAP()\n"
   ]
  },
  {
   "cell_type": "code",
   "execution_count": null,
   "id": "01b6f029-7cb8-4ceb-96a1-303e1ac4f6b4",
   "metadata": {},
   "outputs": [],
   "source": [
    "simulated_model.plot_MAP_estimate(type = \"lin\")\n",
    "plt.figure()\n",
    "plt.plot([5,10,25,40,45], true_trajectories.T)\n",
    "plt.title(\"True trjacectories\")\n",
    "plt.xlabel(\"Generations\")\n",
    "plt.ylabel(\"Lineage frequency\")\n",
    "\n",
    "plt.figure()\n",
    "plt.plot(s_vals[1:] - s_vals[0], simulated_model.map_estimate[\"s\"], \".\")\n",
    "plt.plot([-0.09, 0], [-0.09, 0], color = \"gray\")\n",
    "plt.xlabel(\"True fitnesses\")\n",
    "plt.ylabel(\"MAP estimate fitnesses\")\n",
    "plt.show()"
   ]
  },
  {
   "cell_type": "code",
   "execution_count": null,
   "id": "e5d6bc8c-c764-42a3-926f-ad14e3731bdf",
   "metadata": {},
   "outputs": [],
   "source": [
    "simulated_model.mcmc_sample(draws = 4000, tune = 4000)\n",
    "simulated_model.mcmc_sample(draws = 4000, tune = 4000)"
   ]
  },
  {
   "cell_type": "code",
   "execution_count": null,
   "id": "e557b526-6a3f-4594-930a-7455b533259b",
   "metadata": {},
   "outputs": [],
   "source": [
    "simulated_model.plot_mcmc_trace()"
   ]
  },
  {
   "cell_type": "markdown",
   "id": "a1ceca60-c74a-4504-845a-69aea1bfea1a",
   "metadata": {},
   "source": [
    "## LTEE Simulations"
   ]
  },
  {
   "cell_type": "code",
   "execution_count": null,
   "id": "a1e28d6f-ec24-428d-9676-e48b923a7bfa",
   "metadata": {},
   "outputs": [],
   "source": [
    "data, time, ordered_counts, s_vals, f0_vals = io.load_data(\"simulated_data_LTEE.txt\", \n",
    "    data_dir = \"C:/Users/eliot/Documents/G4/Lab/LTEE_sims/\",\n",
    "    load_metadata = True)"
   ]
  },
  {
   "cell_type": "code",
   "execution_count": null,
   "id": "53c7a427-9c7d-4b75-924f-2f3647923c66",
   "metadata": {},
   "outputs": [],
   "source": [
    "idx = np.random.randint(0, 2000)\n",
    "\n",
    "mu, sigma = df_priors.iloc[idx,:]\n",
    "x = np.linspace(-0.45, 0)\n",
    "y = 1 / (sigma * np.sqrt(2 * np.pi)) * np.exp( (-1/2) * ((mu - x) / sigma)**2 )\n",
    "az.plot_kde(df_fitnesses.iloc[idx,:], label = \"data\")\n",
    "plt.plot(x, y, color = \"tab:red\", label = \"hyperprior\")\n",
    "plt.legend()\n",
    "plt.show()"
   ]
  },
  {
   "cell_type": "code",
   "execution_count": null,
   "id": "4743540c-18fa-4028-95d4-779a713df2e8",
   "metadata": {},
   "outputs": [],
   "source": [
    "x = np.linspace(-0.75, 0)\n",
    "mu = fitness_model.map_estimate[\"mu\"]\n",
    "sigma = fitness_model.map_estimate[\"sigma\"]\n",
    "mu = -.137\n",
    "sigma = 0.055\n",
    "\n",
    "print(fitness_model.map_estimate[\"mu\"])\n",
    "print(fitness_model.map_estimate[\"sigma\"])\n",
    "\n",
    "y = 1 / (sigma * np.sqrt(2 * np.pi)) * np.exp( (-1/2) * ((mu - x) / sigma)**2 )\n",
    "\n",
    "az.plot_kde(fitness_model.map_estimate[\"s\"])\n",
    "plt.plot(x, y, color = \"tab:red\")\n",
    "plt.show()\n"
   ]
  },
  {
   "cell_type": "code",
   "execution_count": null,
   "id": "bb5bb2ac-d2c2-4dc3-a46b-4a09a964a92a",
   "metadata": {},
   "outputs": [],
   "source": [
    "print(np.argmin(fitness_model.map_estimate[\"s\"]))\n",
    "print(fitness_model.map_estimate[\"s\"][720])"
   ]
  },
  {
   "cell_type": "code",
   "execution_count": null,
   "id": "77cf0617-7d31-4380-9ba1-a4254c766076",
   "metadata": {},
   "outputs": [],
   "source": [
    "data_2, time, counts_2 = io.load_data(\"filtered_counts_ypd_dmso_2.txt\")\n",
    "data_025, time, counts_025 = io.load_data(\"filtered_counts_ypd_dmso_0.25.txt\")\n",
    "\n",
    "bc_2 = data_2[\"BC\"].to_numpy()\n",
    "bc_025 = data_025[\"BC\"].to_numpy()\n",
    "\n",
    "thing_2 = []\n",
    "thing_025 = []\n",
    "\n",
    "for bc in bc_2:\n",
    "    if bc in bc_025:\n",
    "        thing_2.append(counts_2[np.argwhere(bc_2 == bc)][0,0])\n",
    "        thing_025.append(counts_025[np.argwhere(bc_025 == bc)][0,0])\n",
    "\n",
    "idx = np.flipud(np.argsort(np.sum(thing_2, axis = 1)))\n",
    "\n",
    "thing_2 = np.array(thing_2)[idx]\n",
    "thing_025 = np.array(thing_025)[idx]\n",
    "\n",
    "plt.figure()\n",
    "plt.plot(time, thing_2.T)\n",
    "plt.show()\n",
    "plt.figure()\n",
    "plt.plot(time, thing_025.T)\n",
    "plt.show()"
   ]
  }
 ],
 "metadata": {
  "kernelspec": {
   "name": "pycharm-6da2105",
   "language": "python",
   "display_name": "PyCharm (Fitness_code)"
  },
  "language_info": {
   "codemirror_mode": {
    "name": "ipython",
    "version": 3
   },
   "file_extension": ".py",
   "mimetype": "text/x-python",
   "name": "python",
   "nbconvert_exporter": "python",
   "pygments_lexer": "ipython3",
   "version": "3.9.13"
  }
 },
 "nbformat": 4,
 "nbformat_minor": 5
}