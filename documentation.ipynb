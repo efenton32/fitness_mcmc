{
 "cells": [
  {
   "cell_type": "markdown",
   "id": "3d4cbf35-3917-4e2f-9940-c58adb99e38b",
   "metadata": {},
   "source": [
    "# Fitness MCMC Documentation Notebook"
   ]
  },
  {
   "cell_type": "code",
   "execution_count": 1,
   "id": "1fc72457",
   "metadata": {},
   "outputs": [
    {
     "name": "stderr",
     "output_type": "stream",
     "text": [
      "WARNING (theano.tensor.blas): Using NumPy C-API based implementation for BLAS functions.\n"
     ]
    }
   ],
   "source": [
    "#Standard Imports\n",
    "import numpy as np\n",
    "import pymc3 as pm\n",
    "import pandas as pd\n",
    "import matplotlib.pyplot as plt\n",
    "import seaborn as sns\n",
    "import arviz as az"
   ]
  },
  {
   "cell_type": "code",
   "execution_count": 2,
   "id": "c00950b6-d44e-456f-b00d-da60ba9facff",
   "metadata": {},
   "outputs": [],
   "source": [
    "#Imports from fitness mcmc package \n",
    "import fitness_mcmc\n",
    "import fitness_mcmc.data_io as io \n",
    "import fitness_mcmc.fitness_mcmc as m"
   ]
  },
  {
   "cell_type": "markdown",
   "id": "fff5cb3d-0121-4d7e-af01-9e3472d218b7",
   "metadata": {},
   "source": [
    "## Overview "
   ]
  },
  {
   "cell_type": "markdown",
   "id": "49c84bd0-0403-4841-b566-2f91289f8b70",
   "metadata": {},
   "source": [
    "Mapping genotypes to phenotypes is critical to uncovering hidden biological functions. Genotypic association studies in model organisms can now explain much of the observed hertiability in many traits thereby allowing us to predict phenotype from genotype. However, large data sizes can confound analyses and so can constrain predicitive power. As a solution, the goal of this package is to distill genotypic data to summary statistics - a set of single quantitative values that would fully represent each lineage (genotype) in an experiment. \n",
    "\n",
    "This distillation vies for computational simplicity while aiming to capture the complexities within the original dataset. In more defined terms, we're infering ***fitnesses*** represented by: \n",
    "\n",
    "$$ s_{i} = \\text{fitnesses} $$ \n",
    "\n",
    "from a set of population assays represented by the variable: \n",
    "\n",
    "$$ n_{i} = \\text{raw counts} $$ \n",
    "\n",
    "The $n_{i}$ counts get normalized to the total counts from each lineage for each generation such that \n",
    "\n",
    "$$ f_{i} = \\text{normalize}(n_{i}) $$ \n",
    "\n",
    "The generations are measured in units of how many times the organisms have doubled i.e. if they doubled 7 times in 24 hours then the generation count would be 7. Generational count is incorporated in the model by the value: \n",
    "\n",
    "$$ t = \\text{generations} $$\n",
    "\n",
    "The last variable of concern is $f_0$ - the initial frequency of each lineage at generation count equal to zero. We don't actually know the intial frequency count so we would like to infer both this and the fitneseses of each genotype according to the expontential model defined below. "
   ]
  },
  {
   "cell_type": "markdown",
   "id": "3e2c133a-cdb7-4175-b177-050600940eb5",
   "metadata": {
    "tags": []
   },
   "source": [
    "## Statistical Model"
   ]
  },
  {
   "cell_type": "markdown",
   "id": "e949813b",
   "metadata": {},
   "source": [
    "The generative model to infer fitnesses from genotypes assumes an exponential dependence of fitness on data. The prior we currently assume for fitnesses is assumed to be flat. We actually know that the prior for the fitnesses can follow a normal distribution given hyperpriors defining mu and sigma. This will be implemented in a later version of this package.  \n",
    "\n",
    "prior: $$s_{i} \\sim \\text{flat}('fitnesses') $$\n",
    "\n",
    "The likelihood takes a poisson function since there is noise from the discrete count sampling from generation to generation. However, the model that describes the frequency of each lineage as a function of time, intial frequency and fitness is a normalized exponential (the denominator represents this normalization).\n",
    "\n",
    "likelihood $$ f_{i} \\sim \\frac {f_{0_{i}} * exp(s_i * t)} {\\sum_{i} f_{0_{i}} * exp(s_i * t)}$$\n",
    "\n",
    "We're trying to infer from the fitness and initial frequency given this exponential function. "
   ]
  },
  {
   "cell_type": "markdown",
   "id": "9e91f577-f7a8-4397-8d40-4a8417bd9aa4",
   "metadata": {},
   "source": [
    "### Let's look at the data"
   ]
  },
  {
   "cell_type": "markdown",
   "id": "5493f62d-bf71-487e-81cf-e014a5213cb3",
   "metadata": {},
   "source": [
    "The function `load_data` in `data_io.py` returns a pandas dataframe of the raw data (i.e. `data`), a numpy array of time generations (i.e. `time`), and a numpy array of arrays of ordered frequencies (i.e. `ordered_frequencies`) where the order is determined by the number of counts. "
   ]
  },
  {
   "cell_type": "code",
   "execution_count": 3,
   "id": "971601ae",
   "metadata": {},
   "outputs": [
    {
     "name": "stdout",
     "output_type": "stream",
     "text": [
      "[[ 52451  50294 151978 177477 216679]\n",
      " [ 15607  15010  43410  48756  58213]\n",
      " [ 16176  13409  36022  33824  42689]\n",
      " ...\n",
      " [     8      1      0      0      0]\n",
      " [     9      0      0      0      0]\n",
      " [     4      1      0      0      0]]\n"
     ]
    }
   ],
   "source": [
    "\"\"\"\n",
    "Loading data and looking at the first 40 ordered genotypes. \n",
    "\"\"\"\n",
    "data, time, ordered_counts  = io.load_data(\"filtered_counts_ypd_temp_30.txt\")\n",
    "data\n",
    "print(ordered_counts.astype(\"int\"))"
   ]
  },
  {
   "cell_type": "markdown",
   "id": "b11cc9ac-6a23-4d69-b4a9-3e64d01cb99b",
   "metadata": {},
   "source": [
    "The first row `5, 10, 25, 40, 45` shows the generations where genotypes are sampled. The values under the generation represent counts - the number of each genotype alive. The frequency metadata is calculated by normalizing the counts per generation sample and then they are ordered by genotype with the most total counts across all generations. That is what ordered frequencies represents. "
   ]
  },
  {
   "cell_type": "code",
   "execution_count": 4,
   "id": "490e5e15-1090-4175-a047-6b1b526c45ab",
   "metadata": {},
   "outputs": [
    {
     "data": {
      "image/png": "[encoded data removed]",
      "text/plain": [
       "<Figure size 432x288 with 1 Axes>"
      ]
     },
     "metadata": {
      "needs_background": "light"
     },
     "output_type": "display_data"
    }
   ],
   "source": [
    "ordered_frequencies = ordered_counts / np.sum(ordered_counts, axis = 0)\n",
    "\n",
    "plt.plot([5,10,25,40,45], ordered_frequencies.T);\n",
    "plt.xlabel('Time (generations)')\n",
    "plt.ylabel('Frequency')\n",
    "plt.show()"
   ]
  },
  {
   "cell_type": "markdown",
   "id": "b8239dea-cbbb-49b5-bfb0-1399198d13f1",
   "metadata": {},
   "source": [
    "A visual Plot of the data below. Each line indicates a lineage or a genotype (e.g. a series of CCAAA...). "
   ]
  },
  {
   "cell_type": "markdown",
   "id": "9f38879c-5e42-4bd0-ac82-25023f5233fa",
   "metadata": {},
   "source": [
    "## Doing some inference on subset of real data"
   ]
  },
  {
   "cell_type": "markdown",
   "id": "2efbceea-b762-4663-9485-2672b624295a",
   "metadata": {},
   "source": [
    "We take our fitness model object and give it our ordered frequencies, metadata generated earlier, and the time generations. Calling `find_MAP()`, we and then plotting we see how well our reconstructed model compares to the actual data in a linear plot of frequencies vs generations. "
   ]
  },
  {
   "cell_type": "code",
   "execution_count": 13,
   "id": "0faf8c6a-83e2-4b98-a234-d73c4915eece",
   "metadata": {},
   "outputs": [
    {
     "data": {
      "text/html": [
       "\n",
       "    <div>\n",
       "        <style>\n",
       "            /* Turns off some styling */\n",
       "            progress {\n",
       "                /* gets rid of default border in Firefox and Opera. */\n",
       "                border: none;\n",
       "                /* Needs to be in here for Safari polyfill so background images work as expected. */\n",
       "                background-size: auto;\n",
       "            }\n",
       "            .progress-bar-interrupted, .progress-bar-interrupted::-webkit-progress-bar {\n",
       "                background: #F44336;\n",
       "            }\n",
       "        </style>\n",
       "      <progress value='4901' class='' max='4901' style='width:300px; height:20px; vertical-align: middle;'></progress>\n",
       "      100.00% [4901/4901 00:14<00:00 logp = -7,801.7, ||grad|| = 48.06]\n",
       "    </div>\n",
       "    "
      ],
      "text/plain": [
       "<IPython.core.display.HTML object>"
      ]
     },
     "metadata": {},
     "output_type": "display_data"
    },
    {
     "name": "stdout",
     "output_type": "stream",
     "text": [
      "\n"
     ]
    }
   ],
   "source": [
    "fitness_model = m.Fitness_Model(ordered_counts[0:400], time, s_ref = 0)\n",
    "fitness_model.find_MAP()"
   ]
  },
  {
   "cell_type": "code",
   "execution_count": 14,
   "id": "65b3ad55",
   "metadata": {},
   "outputs": [
    {
     "data": {
      "image/png": "[encoded data removed]",
      "text/plain": [
       "<Figure size 432x288 with 2 Axes>"
      ]
     },
     "metadata": {
      "needs_background": "light"
     },
     "output_type": "display_data"
    }
   ],
   "source": [
    "fitness_model.plot_MAP_estimate(type = \"lin\")"
   ]
  },
  {
   "cell_type": "markdown",
   "id": "b9a6c12f-3d05-4ae8-b4e1-cdc502444e51",
   "metadata": {},
   "source": [
    "## Doing inference with MCMC on real data"
   ]
  },
  {
   "cell_type": "markdown",
   "id": "2c35fb35-fa3b-4473-a388-3ac594469430",
   "metadata": {},
   "source": [
    "Completing MCMC to generate quantitative understanding of the uncerainities on our estimated fitness and intial frequency values. (Using a subset of our real data) "
   ]
  },
  {
   "cell_type": "code",
   "execution_count": 15,
   "id": "a79047dd",
   "metadata": {},
   "outputs": [
    {
     "name": "stderr",
     "output_type": "stream",
     "text": [
      "Auto-assigning NUTS sampler...\n",
      "Initializing NUTS using jitter+adapt_diag...\n",
      "Multiprocess sampling (4 chains in 4 jobs)\n",
      "NUTS: [f0, s, sigma, mu]\n"
     ]
    },
    {
     "data": {
      "text/html": [
       "\n",
       "    <div>\n",
       "        <style>\n",
       "            /* Turns off some styling */\n",
       "            progress {\n",
       "                /* gets rid of default border in Firefox and Opera. */\n",
       "                border: none;\n",
       "                /* Needs to be in here for Safari polyfill so background images work as expected. */\n",
       "                background-size: auto;\n",
       "            }\n",
       "            .progress-bar-interrupted, .progress-bar-interrupted::-webkit-progress-bar {\n",
       "                background: #F44336;\n",
       "            }\n",
       "        </style>\n",
       "      <progress value='1517' class='' max='56000' style='width:300px; height:20px; vertical-align: middle;'></progress>\n",
       "      2.71% [1517/56000 00:55<33:02 Sampling 4 chains, 0 divergences]\n",
       "    </div>\n",
       "    "
      ],
      "text/plain": [
       "<IPython.core.display.HTML object>"
      ]
     },
     "metadata": {},
     "output_type": "display_data"
    },
    {
     "ename": "ValueError",
     "evalue": "Not enough samples to build a trace.",
     "output_type": "error",
     "traceback": [
      "\u001b[1;31m---------------------------------------------------------------------------\u001b[0m",
      "\u001b[1;31mKeyboardInterrupt\u001b[0m                         Traceback (most recent call last)",
      "File \u001b[1;32m~\\anaconda3\\envs\\phys201\\lib\\site-packages\\pymc3\\sampling.py:1477\u001b[0m, in \u001b[0;36m_mp_sample\u001b[1;34m(draws, tune, step, chains, cores, chain, random_seed, start, progressbar, trace, model, callback, discard_tuned_samples, mp_ctx, pickle_backend, **kwargs)\u001b[0m\n\u001b[0;32m   1476\u001b[0m \u001b[38;5;28;01mwith\u001b[39;00m sampler:\n\u001b[1;32m-> 1477\u001b[0m     \u001b[38;5;28;01mfor\u001b[39;00m draw \u001b[38;5;129;01min\u001b[39;00m sampler:\n\u001b[0;32m   1478\u001b[0m         trace \u001b[38;5;241m=\u001b[39m traces[draw\u001b[38;5;241m.\u001b[39mchain \u001b[38;5;241m-\u001b[39m chain]\n",
      "File \u001b[1;32m~\\anaconda3\\envs\\phys201\\lib\\site-packages\\pymc3\\parallel_sampling.py:479\u001b[0m, in \u001b[0;36mParallelSampler.__iter__\u001b[1;34m(self)\u001b[0m\n\u001b[0;32m    478\u001b[0m \u001b[38;5;28;01mwhile\u001b[39;00m \u001b[38;5;28mself\u001b[39m\u001b[38;5;241m.\u001b[39m_active:\n\u001b[1;32m--> 479\u001b[0m     draw \u001b[38;5;241m=\u001b[39m \u001b[43mProcessAdapter\u001b[49m\u001b[38;5;241;43m.\u001b[39;49m\u001b[43mrecv_draw\u001b[49m\u001b[43m(\u001b[49m\u001b[38;5;28;43mself\u001b[39;49m\u001b[38;5;241;43m.\u001b[39;49m\u001b[43m_active\u001b[49m\u001b[43m)\u001b[49m\n\u001b[0;32m    480\u001b[0m     proc, is_last, draw, tuning, stats, warns \u001b[38;5;241m=\u001b[39m draw\n",
      "File \u001b[1;32m~\\anaconda3\\envs\\phys201\\lib\\site-packages\\pymc3\\parallel_sampling.py:346\u001b[0m, in \u001b[0;36mProcessAdapter.recv_draw\u001b[1;34m(processes, timeout)\u001b[0m\n\u001b[0;32m    345\u001b[0m pipes \u001b[38;5;241m=\u001b[39m [proc\u001b[38;5;241m.\u001b[39m_msg_pipe \u001b[38;5;28;01mfor\u001b[39;00m proc \u001b[38;5;129;01min\u001b[39;00m processes]\n\u001b[1;32m--> 346\u001b[0m ready \u001b[38;5;241m=\u001b[39m \u001b[43mmultiprocessing\u001b[49m\u001b[38;5;241;43m.\u001b[39;49m\u001b[43mconnection\u001b[49m\u001b[38;5;241;43m.\u001b[39;49m\u001b[43mwait\u001b[49m\u001b[43m(\u001b[49m\u001b[43mpipes\u001b[49m\u001b[43m)\u001b[49m\n\u001b[0;32m    347\u001b[0m \u001b[38;5;28;01mif\u001b[39;00m \u001b[38;5;129;01mnot\u001b[39;00m ready:\n",
      "File \u001b[1;32m~\\anaconda3\\envs\\phys201\\lib\\multiprocessing\\connection.py:884\u001b[0m, in \u001b[0;36mwait\u001b[1;34m(object_list, timeout)\u001b[0m\n\u001b[0;32m    882\u001b[0m                 timeout \u001b[38;5;241m=\u001b[39m \u001b[38;5;241m0\u001b[39m\n\u001b[1;32m--> 884\u001b[0m     ready_handles \u001b[38;5;241m=\u001b[39m \u001b[43m_exhaustive_wait\u001b[49m\u001b[43m(\u001b[49m\u001b[43mwaithandle_to_obj\u001b[49m\u001b[38;5;241;43m.\u001b[39;49m\u001b[43mkeys\u001b[49m\u001b[43m(\u001b[49m\u001b[43m)\u001b[49m\u001b[43m,\u001b[49m\u001b[43m \u001b[49m\u001b[43mtimeout\u001b[49m\u001b[43m)\u001b[49m\n\u001b[0;32m    885\u001b[0m \u001b[38;5;28;01mfinally\u001b[39;00m:\n\u001b[0;32m    886\u001b[0m     \u001b[38;5;66;03m# request that overlapped reads stop\u001b[39;00m\n",
      "File \u001b[1;32m~\\anaconda3\\envs\\phys201\\lib\\multiprocessing\\connection.py:816\u001b[0m, in \u001b[0;36m_exhaustive_wait\u001b[1;34m(handles, timeout)\u001b[0m\n\u001b[0;32m    815\u001b[0m \u001b[38;5;28;01mwhile\u001b[39;00m L:\n\u001b[1;32m--> 816\u001b[0m     res \u001b[38;5;241m=\u001b[39m \u001b[43m_winapi\u001b[49m\u001b[38;5;241;43m.\u001b[39;49m\u001b[43mWaitForMultipleObjects\u001b[49m\u001b[43m(\u001b[49m\u001b[43mL\u001b[49m\u001b[43m,\u001b[49m\u001b[43m \u001b[49m\u001b[38;5;28;43;01mFalse\u001b[39;49;00m\u001b[43m,\u001b[49m\u001b[43m \u001b[49m\u001b[43mtimeout\u001b[49m\u001b[43m)\u001b[49m\n\u001b[0;32m    817\u001b[0m     \u001b[38;5;28;01mif\u001b[39;00m res \u001b[38;5;241m==\u001b[39m WAIT_TIMEOUT:\n",
      "\u001b[1;31mKeyboardInterrupt\u001b[0m: ",
      "\nDuring handling of the above exception, another exception occurred:\n",
      "\u001b[1;31mValueError\u001b[0m                                Traceback (most recent call last)",
      "Input \u001b[1;32mIn [15]\u001b[0m, in \u001b[0;36m<module>\u001b[1;34m\u001b[0m\n\u001b[1;32m----> 1\u001b[0m \u001b[43mfitness_model\u001b[49m\u001b[38;5;241;43m.\u001b[39;49m\u001b[43mmcmc_sample\u001b[49m\u001b[43m(\u001b[49m\u001b[43mdraws\u001b[49m\u001b[43m \u001b[49m\u001b[38;5;241;43m=\u001b[39;49m\u001b[43m \u001b[49m\u001b[38;5;241;43m4000\u001b[39;49m\u001b[43m,\u001b[49m\u001b[43m \u001b[49m\u001b[43mtune\u001b[49m\u001b[43m \u001b[49m\u001b[38;5;241;43m=\u001b[39;49m\u001b[43m \u001b[49m\u001b[38;5;241;43m10000\u001b[39;49m\u001b[43m)\u001b[49m\n",
      "File \u001b[1;32m~\\Documents\\G4\\PHYS201\\project\\fitness_mcmc\\fitness_mcmc\\fitness_mcmc.py:62\u001b[0m, in \u001b[0;36mFitness_Model.mcmc_sample\u001b[1;34m(self, draws, tune)\u001b[0m\n\u001b[0;32m     57\u001b[0m \u001b[38;5;124;03m\"\"\"\u001b[39;00m\n\u001b[0;32m     58\u001b[0m \u001b[38;5;124;03mMarkov-chain Monte Carlo sample the posterior distribution of the\u001b[39;00m\n\u001b[0;32m     59\u001b[0m \u001b[38;5;124;03mpymc3 model\u001b[39;00m\n\u001b[0;32m     60\u001b[0m \u001b[38;5;124;03m\"\"\"\u001b[39;00m\n\u001b[0;32m     61\u001b[0m \u001b[38;5;28;01mwith\u001b[39;00m \u001b[38;5;28mself\u001b[39m\u001b[38;5;241m.\u001b[39mmodel:\n\u001b[1;32m---> 62\u001b[0m     \u001b[38;5;28mself\u001b[39m\u001b[38;5;241m.\u001b[39mtrace \u001b[38;5;241m=\u001b[39m \u001b[43mpm\u001b[49m\u001b[38;5;241;43m.\u001b[39;49m\u001b[43msample\u001b[49m\u001b[43m(\u001b[49m\u001b[43mdraws\u001b[49m\u001b[43m,\u001b[49m\n\u001b[0;32m     63\u001b[0m \u001b[43m                           \u001b[49m\u001b[43mtune\u001b[49m\u001b[43m \u001b[49m\u001b[38;5;241;43m=\u001b[39;49m\u001b[43m \u001b[49m\u001b[43mtune\u001b[49m\u001b[43m,\u001b[49m\n\u001b[0;32m     64\u001b[0m \u001b[43m                           \u001b[49m\u001b[43mreturn_inferencedata\u001b[49m\u001b[43m \u001b[49m\u001b[38;5;241;43m=\u001b[39;49m\u001b[43m \u001b[49m\u001b[38;5;28;43;01mFalse\u001b[39;49;00m\u001b[43m)\u001b[49m\n",
      "File \u001b[1;32m~\\anaconda3\\envs\\phys201\\lib\\site-packages\\pymc3\\sampling.py:559\u001b[0m, in \u001b[0;36msample\u001b[1;34m(draws, step, init, n_init, start, trace, chain_idx, chains, cores, tune, progressbar, model, random_seed, discard_tuned_samples, compute_convergence_checks, callback, jitter_max_retries, return_inferencedata, idata_kwargs, mp_ctx, pickle_backend, **kwargs)\u001b[0m\n\u001b[0;32m    557\u001b[0m _print_step_hierarchy(step)\n\u001b[0;32m    558\u001b[0m \u001b[38;5;28;01mtry\u001b[39;00m:\n\u001b[1;32m--> 559\u001b[0m     trace \u001b[38;5;241m=\u001b[39m _mp_sample(\u001b[38;5;241m*\u001b[39m\u001b[38;5;241m*\u001b[39msample_args, \u001b[38;5;241m*\u001b[39m\u001b[38;5;241m*\u001b[39mparallel_args)\n\u001b[0;32m    560\u001b[0m \u001b[38;5;28;01mexcept\u001b[39;00m pickle\u001b[38;5;241m.\u001b[39mPickleError:\n\u001b[0;32m    561\u001b[0m     _log\u001b[38;5;241m.\u001b[39mwarning(\u001b[38;5;124m\"\u001b[39m\u001b[38;5;124mCould not pickle model, sampling singlethreaded.\u001b[39m\u001b[38;5;124m\"\u001b[39m)\n",
      "File \u001b[1;32m~\\anaconda3\\envs\\phys201\\lib\\site-packages\\pymc3\\sampling.py:1503\u001b[0m, in \u001b[0;36m_mp_sample\u001b[1;34m(draws, tune, step, chains, cores, chain, random_seed, start, progressbar, trace, model, callback, discard_tuned_samples, mp_ctx, pickle_backend, **kwargs)\u001b[0m\n\u001b[0;32m   1501\u001b[0m \u001b[38;5;28;01mexcept\u001b[39;00m \u001b[38;5;167;01mKeyboardInterrupt\u001b[39;00m:\n\u001b[0;32m   1502\u001b[0m     \u001b[38;5;28;01mif\u001b[39;00m discard_tuned_samples:\n\u001b[1;32m-> 1503\u001b[0m         traces, length \u001b[38;5;241m=\u001b[39m \u001b[43m_choose_chains\u001b[49m\u001b[43m(\u001b[49m\u001b[43mtraces\u001b[49m\u001b[43m,\u001b[49m\u001b[43m \u001b[49m\u001b[43mtune\u001b[49m\u001b[43m)\u001b[49m\n\u001b[0;32m   1504\u001b[0m     \u001b[38;5;28;01melse\u001b[39;00m:\n\u001b[0;32m   1505\u001b[0m         traces, length \u001b[38;5;241m=\u001b[39m _choose_chains(traces, \u001b[38;5;241m0\u001b[39m)\n",
      "File \u001b[1;32m~\\anaconda3\\envs\\phys201\\lib\\site-packages\\pymc3\\sampling.py:1529\u001b[0m, in \u001b[0;36m_choose_chains\u001b[1;34m(traces, tune)\u001b[0m\n\u001b[0;32m   1527\u001b[0m lengths \u001b[38;5;241m=\u001b[39m [\u001b[38;5;28mmax\u001b[39m(\u001b[38;5;241m0\u001b[39m, \u001b[38;5;28mlen\u001b[39m(trace) \u001b[38;5;241m-\u001b[39m tune) \u001b[38;5;28;01mfor\u001b[39;00m trace \u001b[38;5;129;01min\u001b[39;00m traces]\n\u001b[0;32m   1528\u001b[0m \u001b[38;5;28;01mif\u001b[39;00m \u001b[38;5;129;01mnot\u001b[39;00m \u001b[38;5;28msum\u001b[39m(lengths):\n\u001b[1;32m-> 1529\u001b[0m     \u001b[38;5;28;01mraise\u001b[39;00m \u001b[38;5;167;01mValueError\u001b[39;00m(\u001b[38;5;124m\"\u001b[39m\u001b[38;5;124mNot enough samples to build a trace.\u001b[39m\u001b[38;5;124m\"\u001b[39m)\n\u001b[0;32m   1531\u001b[0m idxs \u001b[38;5;241m=\u001b[39m np\u001b[38;5;241m.\u001b[39margsort(lengths)\n\u001b[0;32m   1532\u001b[0m l_sort \u001b[38;5;241m=\u001b[39m np\u001b[38;5;241m.\u001b[39marray(lengths)[idxs]\n",
      "\u001b[1;31mValueError\u001b[0m: Not enough samples to build a trace."
     ]
    }
   ],
   "source": [
    "fitness_model.mcmc_sample(draws = 4000, tune = 10000)"
   ]
  },
  {
   "cell_type": "code",
   "execution_count": null,
   "id": "7529fd25-4b04-4cab-8a79-3170a342d3c8",
   "metadata": {},
   "outputs": [],
   "source": [
    "fitness_model.plot_mcmc_trace()"
   ]
  },
  {
   "cell_type": "markdown",
   "id": "346db2ec-20e1-437e-b036-ef1cfb1d0cc2",
   "metadata": {},
   "source": [
    "The mcmc trace provides an insight into the distribution of s and $f_{0}$ values. "
   ]
  },
  {
   "cell_type": "code",
   "execution_count": null,
   "id": "0c4cf626",
   "metadata": {},
   "outputs": [],
   "source": [
    "fitness_model.plot_mcmc_posterior()"
   ]
  },
  {
   "cell_type": "markdown",
   "id": "3a59c9da-67e9-4ce0-a79e-25110f427506",
   "metadata": {},
   "source": [
    "The distribution of fitness values for real data."
   ]
  },
  {
   "cell_type": "markdown",
   "id": "b2d27fa7-036f-475c-9911-832824085f18",
   "metadata": {},
   "source": [
    "## Doing inference on simulated data  "
   ]
  },
  {
   "cell_type": "markdown",
   "id": "31d2b9e3-b9be-41ae-ad78-5f6c56da488c",
   "metadata": {
    "tags": []
   },
   "source": [
    "We compare the fitted functions with the simulated data. "
   ]
  },
  {
   "cell_type": "code",
   "execution_count": null,
   "id": "8c4dd834",
   "metadata": {
    "tags": []
   },
   "outputs": [],
   "source": [
    "#simulated data \n",
    "data, time, ordered_counts, s_vals, f0_vals = io.load_data(\"simulated_data_1.txt\", \n",
    "                                                                 data_dir = \"simulated_data\",\n",
    "                                                                 load_metadata = True)\n",
    "simulated_model = m.Fitness_Model(ordered_counts, time)\n",
    "true_trajectories = m.create_trajectories(f0_vals, s_vals, [5,10,25,40,45])\n",
    "simulated_model.find_MAP()\n"
   ]
  },
  {
   "cell_type": "code",
   "execution_count": null,
   "id": "01b6f029-7cb8-4ceb-96a1-303e1ac4f6b4",
   "metadata": {},
   "outputs": [],
   "source": [
    "simulated_model.plot_MAP_estimate(type = \"lin\")\n",
    "plt.figure()\n",
    "plt.plot([5,10,25,40,45], true_trajectories.T)\n",
    "plt.title(\"True trjacectories\")\n",
    "plt.xlabel(\"Generations\")\n",
    "plt.ylabel(\"Lineage frequency\")\n",
    "\n",
    "plt.figure()\n",
    "plt.plot(s_vals[1:] - s_vals[0], simulated_model.map_estimate[\"s\"], \".\")\n",
    "plt.plot([-0.09, 0], [-0.09, 0], color = \"gray\")\n",
    "plt.xlabel(\"True fitnesses\")\n",
    "plt.ylabel(\"MAP estimate fitnesses\")\n",
    "plt.show()\n"
   ]
  },
  {
   "cell_type": "code",
   "execution_count": null,
   "id": "e5d6bc8c-c764-42a3-926f-ad14e3731bdf",
   "metadata": {},
   "outputs": [],
   "source": []
  }
 ],
 "metadata": {
  "kernelspec": {
   "display_name": "Python 3 (ipykernel)",
   "language": "python",
   "name": "python3"
  },
  "language_info": {
   "codemirror_mode": {
    "name": "ipython",
    "version": 3
   },
   "file_extension": ".py",
   "mimetype": "text/x-python",
   "name": "python",
   "nbconvert_exporter": "python",
   "pygments_lexer": "ipython3",
   "version": "3.9.9"
  }
 },
 "nbformat": 4,
 "nbformat_minor": 5
}
