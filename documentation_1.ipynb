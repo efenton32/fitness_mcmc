{
 "cells": [
  {
   "cell_type": "code",
   "execution_count": 1,
   "id": "1fc72457",
   "metadata": {},
   "outputs": [
    {
     "name": "stderr",
     "output_type": "stream",
     "text": [
      "WARNING (theano.tensor.blas): Using NumPy C-API based implementation for BLAS functions.\n"
     ]
    }
   ],
   "source": [
    "import numpy as np\n",
    "import pymc3 as pm\n",
    "import pandas as pd\n",
    "import matplotlib.pyplot as plt\n",
    "import seaborn as sns\n",
    "import arviz as az"
   ]
  },
  {
   "cell_type": "code",
   "execution_count": 2,
   "id": "c00950b6-d44e-456f-b00d-da60ba9facff",
   "metadata": {},
   "outputs": [],
   "source": [
    "import fitness_mcmc.data_io as io\n",
    "from fitness_mcmc.fitness_mcmc import *"
   ]
  },
  {
   "cell_type": "code",
   "execution_count": 4,
   "id": "971601ae",
   "metadata": {},
   "outputs": [
    {
     "name": "stderr",
     "output_type": "stream",
     "text": [
      "\n",
      "KeyboardInterrupt\n",
      "\n"
     ]
    }
   ],
   "source": [
    "\"\"\"\n",
    "Loading data and looking at the first 40 ordered genotypes. \n",
    "\"\"\"\n",
    "\n",
    "data, time, ordered_frequencies  = io.load_data('filtered_counts_ypd_temp_30.txt')\n",
    "fitness_model = Fitness_Model(ordered_frequencies[0:40],time)\n",
    "fitness_model.find_MAP()"
   ]
  },
  {
   "cell_type": "code",
   "execution_count": 9,
   "id": "65b3ad55",
   "metadata": {},
   "outputs": [
    {
     "ename": "NameError",
     "evalue": "name 'fitness_model' is not defined",
     "output_type": "error",
     "traceback": [
      "\u001b[0;31m---------------------------------------------------------------------------\u001b[0m",
      "\u001b[0;31mNameError\u001b[0m                                 Traceback (most recent call last)",
      "\u001b[0;32m<ipython-input-9-adeeae4cd00b>\u001b[0m in \u001b[0;36m<module>\u001b[0;34m\u001b[0m\n\u001b[0;32m----> 1\u001b[0;31m \u001b[0mfitness_model\u001b[0m\u001b[0;34m.\u001b[0m\u001b[0mplot_MAP_estimate\u001b[0m\u001b[0;34m(\u001b[0m\u001b[0mtype\u001b[0m \u001b[0;34m=\u001b[0m \u001b[0;34m\"lin\"\u001b[0m\u001b[0;34m)\u001b[0m\u001b[0;34m\u001b[0m\u001b[0;34m\u001b[0m\u001b[0m\n\u001b[0m",
      "\u001b[0;31mNameError\u001b[0m: name 'fitness_model' is not defined"
     ]
    }
   ],
   "source": [
    "fitness_model.plot_MAP_estimate(type = \"lin\")"
   ]
  },
  {
   "cell_type": "markdown",
   "id": "e949813b",
   "metadata": {},
   "source": [
    "prior: $$s \\sim \\text{flat}('fitnesses') $$\n",
    "likelihood: $$f \\sim \\text{poisson}(\\lambda)$$\n",
    "where $$\\lambda_i \\sim \\frac {f0_i * exp(s_i * t)} {\\sum_{i} f0_i * exp(s_i * t)}$$\n",
    "posterior: $$p(s \\mid D,M,I) \\propto p(s \\mid M,I)p(D\\mid M,I,s)$$"
   ]
  },
  {
   "cell_type": "code",
   "execution_count": 10,
   "id": "8c4dd834",
   "metadata": {},
   "outputs": [
    {
     "ename": "NameError",
     "evalue": "name 'create_trajectories' is not defined",
     "output_type": "error",
     "traceback": [
      "\u001b[0;31m---------------------------------------------------------------------------\u001b[0m",
      "\u001b[0;31mNameError\u001b[0m                                 Traceback (most recent call last)",
      "\u001b[0;32m<ipython-input-10-c6967cdc1a38>\u001b[0m in \u001b[0;36m<module>\u001b[0;34m\u001b[0m\n\u001b[1;32m      7\u001b[0m \u001b[0mtimes\u001b[0m \u001b[0;34m=\u001b[0m \u001b[0mnp\u001b[0m\u001b[0;34m.\u001b[0m\u001b[0marray\u001b[0m\u001b[0;34m(\u001b[0m\u001b[0;34m[\u001b[0m\u001b[0;36m5\u001b[0m\u001b[0;34m,\u001b[0m \u001b[0;36m10\u001b[0m\u001b[0;34m,\u001b[0m \u001b[0;36m25\u001b[0m\u001b[0;34m,\u001b[0m \u001b[0;36m40\u001b[0m\u001b[0;34m,\u001b[0m \u001b[0;36m45\u001b[0m\u001b[0;34m]\u001b[0m\u001b[0;34m)\u001b[0m\u001b[0;34m\u001b[0m\u001b[0;34m\u001b[0m\u001b[0m\n\u001b[1;32m      8\u001b[0m \u001b[0;34m\u001b[0m\u001b[0m\n\u001b[0;32m----> 9\u001b[0;31m \u001b[0mtraj\u001b[0m \u001b[0;34m=\u001b[0m \u001b[0mcreate_trajectories\u001b[0m\u001b[0;34m(\u001b[0m\u001b[0mf0_vals\u001b[0m\u001b[0;34m,\u001b[0m \u001b[0ms_vals\u001b[0m\u001b[0;34m,\u001b[0m \u001b[0mtimes\u001b[0m\u001b[0;34m)\u001b[0m\u001b[0;34m\u001b[0m\u001b[0;34m\u001b[0m\u001b[0m\n\u001b[0m\u001b[1;32m     10\u001b[0m \u001b[0;31m# The reference trajectory should be the one we know most about (have the most counts for)\u001b[0m\u001b[0;34m\u001b[0m\u001b[0;34m\u001b[0m\u001b[0;34m\u001b[0m\u001b[0m\n\u001b[1;32m     11\u001b[0m \u001b[0;31m# The reference trajectory should be indexed first in the data array\u001b[0m\u001b[0;34m\u001b[0m\u001b[0;34m\u001b[0m\u001b[0;34m\u001b[0m\u001b[0m\n",
      "\u001b[0;31mNameError\u001b[0m: name 'create_trajectories' is not defined"
     ]
    }
   ],
   "source": [
    "#simulated data \n",
    "N = 10\n",
    "num_gens = 49\n",
    "f0_vals = np.random.random(N)\n",
    "s_vals = np.random.random(N) / 10\n",
    "\n",
    "times = np.array([5, 10, 25, 40, 45])\n",
    "\n",
    "traj = create_trajectories(f0_vals, s_vals, times)\n",
    "# The reference trajectory should be the one we know most about (have the most counts for)\n",
    "# The reference trajectory should be indexed first in the data array\n",
    "idx = np.flipud(np.argsort(np.sum(traj, axis = 1)))\n",
    "traj = traj[idx, :]"
   ]
  },
  {
   "cell_type": "code",
   "execution_count": 11,
   "id": "a79047dd",
   "metadata": {},
   "outputs": [
    {
     "ename": "NameError",
     "evalue": "name 'fitness_model' is not defined",
     "output_type": "error",
     "traceback": [
      "\u001b[0;31m---------------------------------------------------------------------------\u001b[0m",
      "\u001b[0;31mNameError\u001b[0m                                 Traceback (most recent call last)",
      "\u001b[0;32m<ipython-input-11-b8a64f483b18>\u001b[0m in \u001b[0;36m<module>\u001b[0;34m\u001b[0m\n\u001b[0;32m----> 1\u001b[0;31m \u001b[0mfitness_model\u001b[0m\u001b[0;34m.\u001b[0m\u001b[0mmcmc_sample\u001b[0m\u001b[0;34m(\u001b[0m\u001b[0;34m)\u001b[0m\u001b[0;34m\u001b[0m\u001b[0;34m\u001b[0m\u001b[0m\n\u001b[0m",
      "\u001b[0;31mNameError\u001b[0m: name 'fitness_model' is not defined"
     ]
    }
   ],
   "source": [
    "fitness_model.mcmc_sample()"
   ]
  },
  {
   "cell_type": "code",
   "execution_count": 12,
   "id": "0c4cf626",
   "metadata": {},
   "outputs": [
    {
     "ename": "NameError",
     "evalue": "name 'fitness_model' is not defined",
     "output_type": "error",
     "traceback": [
      "\u001b[0;31m---------------------------------------------------------------------------\u001b[0m",
      "\u001b[0;31mNameError\u001b[0m                                 Traceback (most recent call last)",
      "\u001b[0;32m<ipython-input-12-67268ce2ee30>\u001b[0m in \u001b[0;36m<module>\u001b[0;34m\u001b[0m\n\u001b[0;32m----> 1\u001b[0;31m \u001b[0mfitness_model\u001b[0m\u001b[0;34m.\u001b[0m\u001b[0mplot_mcmc_posterior\u001b[0m\u001b[0;34m(\u001b[0m\u001b[0;34m)\u001b[0m\u001b[0;34m\u001b[0m\u001b[0;34m\u001b[0m\u001b[0m\n\u001b[0m",
      "\u001b[0;31mNameError\u001b[0m: name 'fitness_model' is not defined"
     ]
    }
   ],
   "source": [
    "fitness_model.plot_mcmc_posterior()"
   ]
  },
  {
   "cell_type": "code",
   "execution_count": null,
   "id": "677705ec",
   "metadata": {},
   "outputs": [],
   "source": []
  }
 ],
 "metadata": {
  "kernelspec": {
   "display_name": "Python 3 (ipykernel)",
   "language": "python",
   "name": "python3"
  },
  "language_info": {
   "codemirror_mode": {
    "name": "ipython",
    "version": 3
   },
   "file_extension": ".py",
   "mimetype": "text/x-python",
   "name": "python",
   "nbconvert_exporter": "python",
   "pygments_lexer": "ipython3",
   "version": "3.9.9"
  }
 },
 "nbformat": 4,
 "nbformat_minor": 5
}
