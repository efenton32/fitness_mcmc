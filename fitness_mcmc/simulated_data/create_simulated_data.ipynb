{
 "cells": [
  {
   "cell_type": "markdown",
   "id": "57378d11-d3ea-43d0-95e7-132960cce889",
   "metadata": {},
   "source": [
    "# Generate Simulated Data"
   ]
  },
  {
   "cell_type": "code",
   "execution_count": 1,
   "id": "3bceda8d-063b-41a7-badf-478ac5e07165",
   "metadata": {},
   "outputs": [
    {
     "name": "stderr",
     "output_type": "stream",
     "text": [
      "WARNING (theano.tensor.blas): Using NumPy C-API based implementation for BLAS functions.\n"
     ]
    }
   ],
   "source": [
    "import pandas as pd\n",
    "import numpy as np\n",
    "\n",
    "#requires that the data_io is one parent directory up \n",
    "import sys \n",
    "sys.path.append('..')\n",
    "\n",
    "import data_io as di\n",
    "from fitness_mcmc import create_trajectories, sample_lineages"
   ]
  },
  {
   "cell_type": "markdown",
   "id": "2b9ca312-d19b-4ce3-bb6a-4a4c43b273be",
   "metadata": {},
   "source": [
    "Here we're generating simulated data returning a data frame with the columns representing the number of generations (in our example 5,10,25,40,45) and the rows representing the respective counts for each genotype. The number of genotypes, generations, etc. can be controlled. The trajectories are modeled using the exponential model as demonstrated in the documentation notebook. "
   ]
  },
  {
   "cell_type": "markdown",
   "id": "d8451fe9-21a2-4d4a-913c-cb82555a0bbf",
   "metadata": {},
   "source": [
    "## Helper Functions"
   ]
  },
  {
   "cell_type": "code",
   "execution_count": 2,
   "id": "a566749f-4470-4119-9a39-12c087712781",
   "metadata": {},
   "outputs": [],
   "source": [
    "def write_simulated_datafile(filename, N = 40, times = None, s_range = 0.1,\n",
    "                             depth = 1000, s_vals = None, f0_vals = None):\n",
    "    \"\"\"\n",
    "    Creates a textfile of simulated trajectories formated like a real datafile\n",
    "\n",
    "    Params:\n",
    "        filename [str]: name of the output file\n",
    "        N [int]: population size, i.e. number of genotypes \n",
    "        times [array_like]: times, in generations, to sample lineages.\n",
    "        s_range [float]: range of fitness values\n",
    "        depth [int_or_float]: Simulated read depth, affects noise \n",
    "    \"\"\"\n",
    "    if not f0_vals:\n",
    "        f0_vals = np.random.random(N)\n",
    "    if not s_vals:\n",
    "        s_vals = np.random.random(N) * s_range\n",
    "    if not times:\n",
    "        times = np.array([5, 10, 25, 40, 45])\n",
    "    else:\n",
    "        times = np.array(times)\n",
    "\n",
    "    trajectory = create_trajectories(f0_vals, s_vals, times)\n",
    "    sampled = pd.DataFrame(sample_lineages(trajectory, depth * N),\n",
    "                           columns = times)\n",
    "    metadata = pd.DataFrame({\"s_vals\": s_vals, \"f0_vals\": f0_vals})\n",
    "    \n",
    "    if \".txt\" in filename:\n",
    "        filename = filename.split(\".txt\")[0]\n",
    "    \n",
    "    sampled.to_csv(filename + \".txt\", sep=\"\\t\", index_label = \"BC\")\n",
    "    metadata.to_csv(filename + \"_metadata.txt\", sep=\"\\t\", index_label = \"BC\")"
   ]
  },
  {
   "cell_type": "code",
   "execution_count": 3,
   "id": "cf88fa9d-23a5-4adb-ac2a-3bdc0788f932",
   "metadata": {},
   "outputs": [],
   "source": [
    "# #writes a simulated data file of 40 different genotypes over 5, 10, 25, 40 and 45 generations. \n",
    "# write_simulated_datafile(\"simulated_data_1.txt\")\n",
    "\n",
    "# #writes a simulated data file using 7, 14, 28, 42, and 49 generations\n",
    "# write_simulated_datafile(\"simulated_data_2.txt\", times = [7,14,28,42,49])"
   ]
  },
  {
   "cell_type": "code",
   "execution_count": null,
   "id": "83bf6819-8a93-47b0-a6db-7105557644e1",
   "metadata": {},
   "outputs": [],
   "source": [
    "#writes a simulated data file using 7, 14, 28, 42, and 49 generations\n",
    "write_simulated_datafile(\"simulated_data_LTEE.txt\", times = [7,14,28,42,49])"
   ]
  }
 ],
 "metadata": {
  "kernelspec": {
   "display_name": "Python 3 (ipykernel)",
   "language": "python",
   "name": "python3"
  },
  "language_info": {
   "codemirror_mode": {
    "name": "ipython",
    "version": 3
   },
   "file_extension": ".py",
   "mimetype": "text/x-python",
   "name": "python",
   "nbconvert_exporter": "python",
   "pygments_lexer": "ipython3",
   "version": "3.9.9"
  }
 },
 "nbformat": 4,
 "nbformat_minor": 5
}
