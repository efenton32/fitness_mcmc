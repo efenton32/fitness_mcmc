{
 "cells": [
  {
   "cell_type": "markdown",
   "id": "57378d11-d3ea-43d0-95e7-132960cce889",
   "metadata": {},
   "source": [
    "# Generate Simulated Data"
   ]
  },
  {
   "cell_type": "code",
   "execution_count": 1,
   "id": "3bceda8d-063b-41a7-badf-478ac5e07165",
   "metadata": {},
   "outputs": [
    {
     "name": "stderr",
     "output_type": "stream",
     "text": [
      "WARNING (theano.tensor.blas): Using NumPy C-API based implementation for BLAS functions.\n"
     ]
    }
   ],
   "source": [
    "import pandas as pd\n",
    "import numpy as np\n",
    "\n",
    "#requires that the data_io is one parent directory up \n",
    "import sys \n",
    "sys.path.append('..')\n",
    "\n",
    "import data_io as di\n",
    "from fitness_mcmc import create_trajectories, sample_lineages"
   ]
  },
  {
   "cell_type": "markdown",
   "id": "2b9ca312-d19b-4ce3-bb6a-4a4c43b273be",
   "metadata": {},
   "source": [
    "Here we're generating simulated data returning a data frame with the columns representing the number of generations (in our example 5,10,25,40,45) and the rows representing the respective counts for each genotype. The number of genotypes, generations, etc. can be controlled. The trajectories are modeled using the exponential model as demonstrated in the documentation notebook. "
   ]
  },
  {
   "cell_type": "markdown",
   "id": "d8451fe9-21a2-4d4a-913c-cb82555a0bbf",
   "metadata": {},
   "source": [
    "## Helper Functions"
   ]
  },
  {
   "cell_type": "code",
   "execution_count": 2,
   "id": "a566749f-4470-4119-9a39-12c087712781",
   "metadata": {},
   "outputs": [],
   "source": [
    "def write_simulated_datafile(filename, N = 40, times = [5, 10, 25, 40, 45], s_range = 0.1,\n",
    "                             depth = 1000, s_vals = [], f0_vals = []):\n",
    "    \"\"\"\n",
    "    Creates a textfile of simulated trajectories formated like a real datafile\n",
    "\n",
    "    Params:\n",
    "        filename [str]: Name of the output file.\n",
    "        N [int]: Population size, i.e. number of genotypes. Automatically assumed if f0_vals or s_vals\n",
    "            are included.\n",
    "        times [array_like]: Times, in generations, to sample lineages.\n",
    "        s_range [float]: Range of fitness values. Ignored if s_vals is included.\n",
    "        depth [int_or_float]: Simulated read depth, affects noise.\n",
    "        s_vals [array_like]: Fitness values for the population, optional.\n",
    "        f0_vals [array_like]: Starting frequencies of the population, optional.\n",
    "    \"\"\"\n",
    "    if len(f0_vals) > 0 or len(s_vals) > 0:\n",
    "        if len(f0_vals) > 0 and len(s_vals) > 0 and len(f0_vals) != len(s_vals):\n",
    "            raise ValueError(\"s_vals and f0_vals must have the same length.\")\n",
    "        N = max(len(f0_vals), len(s_vals))\n",
    "    if len(f0_vals) == 0:\n",
    "        f0_vals = np.random.random(N)\n",
    "    if len(s_vals) == 0:\n",
    "        s_vals = np.random.random(N) * s_range\n",
    "    times = np.array(times)\n",
    "\n",
    "    trajectory = create_trajectories(f0_vals, s_vals, times)\n",
    "    sampled = pd.DataFrame(sample_lineages(trajectory, depth * N),\n",
    "                           columns = times)\n",
    "    metadata = pd.DataFrame({\"s_vals\": s_vals, \"f0_vals\": f0_vals})\n",
    "    \n",
    "    if \".txt\" in filename:\n",
    "        filename = filename.split(\".txt\")[0]\n",
    "    \n",
    "    sampled.to_csv(filename + \".txt\", sep=\"\\t\", index_label = \"BC\")\n",
    "    metadata.to_csv(filename + \"_metadata.txt\", sep=\"\\t\", index_label = \"BC\")"
   ]
  },
  {
   "cell_type": "code",
   "execution_count": 3,
   "id": "cf88fa9d-23a5-4adb-ac2a-3bdc0788f932",
   "metadata": {},
   "outputs": [],
   "source": [
    "# #writes a simulated data file of 40 different genotypes over 5, 10, 25, 40 and 45 generations. \n",
    "# write_simulated_datafile(\"simulated_data_1.txt\")\n",
    "\n",
    "# #writes a simulated data file using 7, 14, 28, 42, and 49 generations\n",
    "# write_simulated_datafile(\"simulated_data_2.txt\", times = [7,14,28,42,49])"
   ]
  },
  {
   "cell_type": "code",
   "execution_count": 4,
   "id": "83bf6819-8a93-47b0-a6db-7105557644e1",
   "metadata": {},
   "outputs": [],
   "source": [
    "# Writes a simulated data file based on estimated fitness of Ara-1, rep 1\n",
    "\n",
    "s_vals = [0.910699904, 1.11253385, 0.99821983, 1.203381179, 1.262659378, 1.359457018, 1.211697985, 1.261849015, \n",
    "          1.21159652, 1.390293936, 1.355383317, 1.445180916, 1.271422864, 1.49517616, 1.382129783, 1.349289071,\n",
    "          1.427948471, 1.47738471, 1.440798106, 1.336651198, 1.46977996, 1.481388763, 1.33157471, 1.553550132, \n",
    "          1.496842327, 1.435615946, 1.578332058, 1.764073117, 1.581792539, 1.812140099, 1.460282403, 2.021813917,\n",
    "          1.844907913, 2.084364992, 1.877496757, 1.859594605, 1.674140374, 1.606857522, 1.575513844, 1.885293796,\n",
    "          1.416568779]\n",
    "\n",
    "write_simulated_datafile(\"simulated_data_LTEE.txt\", times = (1 + np.arange(5))*6.64, \n",
    "                         s_vals = s_vals, f0_vals = np.ones(len(s_vals)))"
   ]
  },
  {
   "cell_type": "code",
   "execution_count": null,
   "id": "44cee75a-43b2-4ae5-ada1-dbff34d44208",
   "metadata": {},
   "outputs": [],
   "source": []
  }
 ],
 "metadata": {
  "kernelspec": {
   "display_name": "Python 3 (ipykernel)",
   "language": "python",
   "name": "python3"
  },
  "language_info": {
   "codemirror_mode": {
    "name": "ipython",
    "version": 3
   },
   "file_extension": ".py",
   "mimetype": "text/x-python",
   "name": "python",
   "nbconvert_exporter": "python",
   "pygments_lexer": "ipython3",
   "version": "3.9.9"
  }
 },
 "nbformat": 4,
 "nbformat_minor": 5
}
