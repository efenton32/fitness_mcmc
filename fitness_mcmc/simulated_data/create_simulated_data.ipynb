{
 "cells": [
  {
   "cell_type": "markdown",
   "id": "57378d11-d3ea-43d0-95e7-132960cce889",
   "metadata": {},
   "source": [
    "# Generate Simulated Data"
   ]
  },
  {
   "cell_type": "code",
   "execution_count": 15,
   "id": "3bceda8d-063b-41a7-badf-478ac5e07165",
   "metadata": {},
   "outputs": [],
   "source": [
    "import pandas as pd\n",
    "import numpy as np\n",
    "from pathlib import Path"
   ]
  },
  {
   "cell_type": "markdown",
   "id": "2b9ca312-d19b-4ce3-bb6a-4a4c43b273be",
   "metadata": {},
   "source": [
    "Here we're generating simulated data returning a data frame with the columns representing the number of generations (in our example 5,10,25,40,45) and the rows representing the respective counts for each genotype. The number of genotypes, generations, etc. can be controlled. The trajectories are modeled using the exponential model as demonstrated in the documentation notebook. "
   ]
  },
  {
   "cell_type": "markdown",
   "id": "d8451fe9-21a2-4d4a-913c-cb82555a0bbf",
   "metadata": {},
   "source": [
    "## Helper Functions"
   ]
  },
  {
   "cell_type": "code",
   "execution_count": 17,
   "id": "bf2d9f11-92b2-4f2d-827a-788e7be8831b",
   "metadata": {},
   "outputs": [],
   "source": [
    "def normalize_func(x):\n",
    "    \"\"\"\n",
    "    Normalizes lineage frequencies to sum to 1\n",
    "\n",
    "    Parameters:\n",
    "        x [array_like]: frequency vector to be normalized\n",
    "    \"\"\"\n",
    "    return x / np.sum(x, axis = 0)\n",
    "\n",
    "def create_trajectories(f0, s, times, normalize = True):\n",
    "    \"\"\"\n",
    "    Simulates lineage trajectores given initial frequency and fitnesses\n",
    "\n",
    "    Parameters:\n",
    "        f0 [array-like]: initial lineage frequencies\n",
    "        s [array-like]: lineage fitnesses\n",
    "        times [array-like]: times, in generations, to sample lineage frequencies\n",
    "        normalize [bool]: if True, normalizes lineage frequencies at each\n",
    "            sampling time\n",
    "    Returns:\n",
    "        f_traj [numpy array]: array of lineage frequencies sampled at times\n",
    "            given by \"times\"\n",
    "    \"\"\"\n",
    "    f0 = f0.reshape([len(f0), -1])\n",
    "    s = s.reshape([len(s), -1])\n",
    "    times = times.reshape([-1, len(times)])\n",
    "    f_traj = f0 * np.exp(s * times)\n",
    "\n",
    "    if normalize:\n",
    "        f_traj = normalize_func(f_traj)\n",
    "\n",
    "    return f_traj\n",
    "\n",
    "def sample_lineages(f, num_samples):\n",
    "    \"\"\"\n",
    "    Returns lineage counts Poisson sampled from their true frequencies\n",
    "\n",
    "    Parameters:\n",
    "        f [array_like]: true lineage frequencies\n",
    "        num_samples [int]: total number of samples to draw, should be order\n",
    "            100 * num_lineages\n",
    "    Returns:\n",
    "        n_sampled [numpy array]: number of samples measured from each lineage\n",
    "    \"\"\"\n",
    "    n_expected = f * num_samples\n",
    "    n_sampled = np.random.poisson(n_expected)\n",
    "    return n_sampled"
   ]
  },
  {
   "cell_type": "code",
   "execution_count": 22,
   "id": "a566749f-4470-4119-9a39-12c087712781",
   "metadata": {},
   "outputs": [],
   "source": [
    "def write_simulated_datafile(filename, N = 40, times = -1, s_range = 0.1,\n",
    "                             depth = 100):\n",
    "    \"\"\"\n",
    "    Creates a textfile of simulated trajectories formated like a real datafile\n",
    "\n",
    "    Params:\n",
    "        filename [str]: name of the output file\n",
    "        N [int]: population size, i.e. number of genotypes \n",
    "        times [array_like]: times, in generations, to sample lineages.\n",
    "        s_range [float]: range of fitness values\n",
    "        depth [int_or_float]: Simulated read depth, affects noise \n",
    "    \"\"\"\n",
    "    f0_vals = np.random.random(N)\n",
    "    s_vals = np.random.random(N) * s_range\n",
    "    if times == -1:\n",
    "        times = np.array([5, 10, 25, 40, 45])\n",
    "    else:\n",
    "        times = np.array(times)\n",
    "\n",
    "    trajectory = create_trajectories(f0_vals, s_vals, times)\n",
    "    sampled = pd.DataFrame(sample_lineages(trajectory, depth * N),\n",
    "                           columns = times)\n",
    "\n",
    "    sampled.to_csv(filename, sep=\"\\t\", index_label = \"BC\")"
   ]
  },
  {
   "cell_type": "code",
   "execution_count": 23,
   "id": "cf88fa9d-23a5-4adb-ac2a-3bdc0788f932",
   "metadata": {},
   "outputs": [],
   "source": [
    "#writes a simulated data file of 40 different genotypes over 5, 10, 25, 40 and 45 generations. \n",
    "write_simulated_datafile(\"simulated_data_1.txt\")\n",
    "\n",
    "#writes a simulated data file using 7, 14, 28, 42, and 49 generations\n",
    "write_simulated_datafile(\"simulated_data_2.txt\", times = [7,14,28,42,49])"
   ]
  }
 ],
 "metadata": {
  "kernelspec": {
   "display_name": "Python 3 (ipykernel)",
   "language": "python",
   "name": "python3"
  },
  "language_info": {
   "codemirror_mode": {
    "name": "ipython",
    "version": 3
   },
   "file_extension": ".py",
   "mimetype": "text/x-python",
   "name": "python",
   "nbconvert_exporter": "python",
   "pygments_lexer": "ipython3",
   "version": "3.9.9"
  }
 },
 "nbformat": 4,
 "nbformat_minor": 5
}
