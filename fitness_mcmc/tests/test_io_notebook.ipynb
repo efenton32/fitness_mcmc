{
 "cells": [
  {
   "cell_type": "code",
   "execution_count": 1,
   "id": "c98afeb3-53ca-44c3-b9ea-2aa9766160a6",
   "metadata": {},
   "outputs": [
    {
     "ename": "ModuleNotFoundError",
     "evalue": "No module named 'Final_project'",
     "output_type": "error",
     "traceback": [
      "\u001b[0;31m---------------------------------------------------------------------------\u001b[0m",
      "\u001b[0;31mModuleNotFoundError\u001b[0m                       Traceback (most recent call last)",
      "Input \u001b[0;32mIn [1]\u001b[0m, in \u001b[0;36m<module>\u001b[0;34m\u001b[0m\n\u001b[1;32m      1\u001b[0m \u001b[38;5;28;01mfrom\u001b[39;00m \u001b[38;5;21;01munittest\u001b[39;00m \u001b[38;5;28;01mimport\u001b[39;00m TestCase\n\u001b[1;32m      2\u001b[0m \u001b[38;5;66;03m#import fitness_mcmc.data_io as di\u001b[39;00m\n\u001b[0;32m----> 3\u001b[0m \u001b[38;5;28;01mfrom\u001b[39;00m \u001b[38;5;21;01mFinal_project\u001b[39;00m\u001b[38;5;21;01m.\u001b[39;00m\u001b[38;5;21;01mfitness_mcmc\u001b[39;00m\u001b[38;5;21;01m.\u001b[39;00m\u001b[38;5;21;01mfitness_mcmc\u001b[39;00m\u001b[38;5;21;01m.\u001b[39;00m\u001b[38;5;21;01mdata_io\u001b[39;00m  \u001b[38;5;28;01mimport\u001b[39;00m _get_file_path, load_data\n\u001b[1;32m      5\u001b[0m \u001b[38;5;28;01mclass\u001b[39;00m \u001b[38;5;21;01mTestIo\u001b[39;00m(TestCase):\n\u001b[1;32m      6\u001b[0m     \u001b[38;5;28;01mdef\u001b[39;00m \u001b[38;5;21mtest_data_io\u001b[39m(\u001b[38;5;28mself\u001b[39m):\n",
      "\u001b[0;31mModuleNotFoundError\u001b[0m: No module named 'Final_project'"
     ]
    }
   ],
   "source": [
    "from unittest import TestCase\n",
    "#import fitness_mcmc.data_io as di\n",
    "from fitness_mcmc.fitness_mcmc.data_io  import _get_file_path, load_data\n",
    "\n",
    "class TestIo(TestCase):\n",
    "    def test_data_io(self):\n",
    "        file_path = di.get_data_file_path('filtered_counts_ypd_temp_30.txt')\n",
    "        data = di.load_data(file_path)\n",
    "        #data = di.load_data('Final_project/fitness_mcmc/filtered_counts_ypd_temp_30.txt')\n",
    "        assert data['data'][0] == 1682\n",
    "    #def test_simulated_data(self):\n",
    "        #simulated_file_path = di.get_data_file_path('simulated_filename.txt')\n",
    "        #simulated_data = di.load_data(simulated_file_path)\n",
    "        #assert simulated_data['data'][0] == 1682"
   ]
  }
 ],
 "metadata": {
  "kernelspec": {
   "display_name": "Python 3 (ipykernel)",
   "language": "python",
   "name": "python3"
  },
  "language_info": {
   "codemirror_mode": {
    "name": "ipython",
    "version": 3
   },
   "file_extension": ".py",
   "mimetype": "text/x-python",
   "name": "python",
   "nbconvert_exporter": "python",
   "pygments_lexer": "ipython3",
   "version": "3.9.9"
  }
 },
 "nbformat": 4,
 "nbformat_minor": 5
}
