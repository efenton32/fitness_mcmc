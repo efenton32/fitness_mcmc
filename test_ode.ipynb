{
 "cells": [
  {
   "cell_type": "markdown",
   "id": "3d4cbf35-3917-4e2f-9940-c58adb99e38b",
   "metadata": {},
   "source": [
    "# Fitness MCMC Documentation Notebook"
   ]
  },
  {
   "cell_type": "code",
   "execution_count": 1,
   "id": "1fc72457",
   "metadata": {},
   "outputs": [
    {
     "name": "stderr",
     "output_type": "stream",
     "text": [
      "WARNING (theano.tensor.blas): Using NumPy C-API based implementation for BLAS functions.\n"
     ]
    }
   ],
   "source": [
    "#Standard Imports\n",
    "import numpy as np\n",
    "import pymc3 as pm\n",
    "import pandas as pd\n",
    "import matplotlib.pyplot as plt\n",
    "import seaborn as sns\n",
    "import arviz as az\n",
    "from scipy.integrate import odeint"
   ]
  },
  {
   "cell_type": "code",
   "execution_count": 2,
   "id": "c00950b6-d44e-456f-b00d-da60ba9facff",
   "metadata": {},
   "outputs": [],
   "source": [
    "#Imports from fitness mcmc package \n",
    "import fitness_mcmc\n",
    "import fitness_mcmc.data_io as io \n",
    "import fitness_mcmc.fitness_mcmc as m"
   ]
  },
  {
   "cell_type": "code",
   "execution_count": 3,
   "id": "971601ae",
   "metadata": {},
   "outputs": [
    {
     "data": {
      "text/html": [
       "<div>\n",
       "<style scoped>\n",
       "    .dataframe tbody tr th:only-of-type {\n",
       "        vertical-align: middle;\n",
       "    }\n",
       "\n",
       "    .dataframe tbody tr th {\n",
       "        vertical-align: top;\n",
       "    }\n",
       "\n",
       "    .dataframe thead th {\n",
       "        text-align: right;\n",
       "    }\n",
       "</style>\n",
       "<table border=\"1\" class=\"dataframe\">\n",
       "  <thead>\n",
       "    <tr style=\"text-align: right;\">\n",
       "      <th></th>\n",
       "      <th>BC</th>\n",
       "      <th>5</th>\n",
       "      <th>10</th>\n",
       "      <th>25</th>\n",
       "      <th>40</th>\n",
       "      <th>45</th>\n",
       "    </tr>\n",
       "  </thead>\n",
       "  <tbody>\n",
       "    <tr>\n",
       "      <th>0</th>\n",
       "      <td>GGGAGACCGCCGCGGG_AGACGACGGGTATTAC</td>\n",
       "      <td>1682</td>\n",
       "      <td>1101</td>\n",
       "      <td>416</td>\n",
       "      <td>112</td>\n",
       "      <td>41</td>\n",
       "    </tr>\n",
       "    <tr>\n",
       "      <th>1</th>\n",
       "      <td>TTATGAAGTAGTTGTA_AATTTTTTTGCCATTC</td>\n",
       "      <td>463</td>\n",
       "      <td>169</td>\n",
       "      <td>50</td>\n",
       "      <td>3</td>\n",
       "      <td>7</td>\n",
       "    </tr>\n",
       "    <tr>\n",
       "      <th>2</th>\n",
       "      <td>ATACAATCATTCATAG_CCCGTGAGCTGAGCCG</td>\n",
       "      <td>1375</td>\n",
       "      <td>322</td>\n",
       "      <td>148</td>\n",
       "      <td>120</td>\n",
       "      <td>36</td>\n",
       "    </tr>\n",
       "    <tr>\n",
       "      <th>3</th>\n",
       "      <td>GGGTAATCACGCCGAA_GGCAACTAATAATATA</td>\n",
       "      <td>639</td>\n",
       "      <td>256</td>\n",
       "      <td>151</td>\n",
       "      <td>64</td>\n",
       "      <td>31</td>\n",
       "    </tr>\n",
       "    <tr>\n",
       "      <th>4</th>\n",
       "      <td>TAGAACCGGTTAAAAA_TGGTAGCTGGACGACA</td>\n",
       "      <td>917</td>\n",
       "      <td>231</td>\n",
       "      <td>48</td>\n",
       "      <td>5</td>\n",
       "      <td>15</td>\n",
       "    </tr>\n",
       "    <tr>\n",
       "      <th>...</th>\n",
       "      <td>...</td>\n",
       "      <td>...</td>\n",
       "      <td>...</td>\n",
       "      <td>...</td>\n",
       "      <td>...</td>\n",
       "      <td>...</td>\n",
       "    </tr>\n",
       "    <tr>\n",
       "      <th>718</th>\n",
       "      <td>CCAAACGCCGTACTAT_CGTCTAGCATAAAGCA</td>\n",
       "      <td>231</td>\n",
       "      <td>106</td>\n",
       "      <td>21</td>\n",
       "      <td>2</td>\n",
       "      <td>0</td>\n",
       "    </tr>\n",
       "    <tr>\n",
       "      <th>719</th>\n",
       "      <td>ACCGCCTGGTCACCAG_TTCGTTACTGCCGGGG</td>\n",
       "      <td>278</td>\n",
       "      <td>111</td>\n",
       "      <td>9</td>\n",
       "      <td>5</td>\n",
       "      <td>0</td>\n",
       "    </tr>\n",
       "    <tr>\n",
       "      <th>720</th>\n",
       "      <td>TACAACGGATTGGGAA_TTCACATCTGGTACCA</td>\n",
       "      <td>833</td>\n",
       "      <td>181</td>\n",
       "      <td>89</td>\n",
       "      <td>43</td>\n",
       "      <td>47</td>\n",
       "    </tr>\n",
       "    <tr>\n",
       "      <th>721</th>\n",
       "      <td>ACGCACCAAGCCGGGA_CCGGGCGATCCACGAA</td>\n",
       "      <td>2916</td>\n",
       "      <td>1559</td>\n",
       "      <td>334</td>\n",
       "      <td>98</td>\n",
       "      <td>47</td>\n",
       "    </tr>\n",
       "    <tr>\n",
       "      <th>722</th>\n",
       "      <td>AAGCCTAAATCGTGTG_CTATAGGCGGCGCATC</td>\n",
       "      <td>76</td>\n",
       "      <td>2</td>\n",
       "      <td>15</td>\n",
       "      <td>0</td>\n",
       "      <td>0</td>\n",
       "    </tr>\n",
       "  </tbody>\n",
       "</table>\n",
       "<p>723 rows × 6 columns</p>\n",
       "</div>"
      ],
      "text/plain": [
       "                                    BC     5    10   25   40  45\n",
       "0    GGGAGACCGCCGCGGG_AGACGACGGGTATTAC  1682  1101  416  112  41\n",
       "1    TTATGAAGTAGTTGTA_AATTTTTTTGCCATTC   463   169   50    3   7\n",
       "2    ATACAATCATTCATAG_CCCGTGAGCTGAGCCG  1375   322  148  120  36\n",
       "3    GGGTAATCACGCCGAA_GGCAACTAATAATATA   639   256  151   64  31\n",
       "4    TAGAACCGGTTAAAAA_TGGTAGCTGGACGACA   917   231   48    5  15\n",
       "..                                 ...   ...   ...  ...  ...  ..\n",
       "718  CCAAACGCCGTACTAT_CGTCTAGCATAAAGCA   231   106   21    2   0\n",
       "719  ACCGCCTGGTCACCAG_TTCGTTACTGCCGGGG   278   111    9    5   0\n",
       "720  TACAACGGATTGGGAA_TTCACATCTGGTACCA   833   181   89   43  47\n",
       "721  ACGCACCAAGCCGGGA_CCGGGCGATCCACGAA  2916  1559  334   98  47\n",
       "722  AAGCCTAAATCGTGTG_CTATAGGCGGCGCATC    76     2   15    0   0\n",
       "\n",
       "[723 rows x 6 columns]"
      ]
     },
     "execution_count": 3,
     "metadata": {},
     "output_type": "execute_result"
    }
   ],
   "source": [
    "\"\"\"\n",
    "Loading data and looking at the first 40 ordered genotypes. \n",
    "\"\"\"\n",
    "data, time, ordered_frequencies  = io.load_data('filtered_counts_ypd_temp_30.txt')\n",
    "data"
   ]
  },
  {
   "cell_type": "code",
   "execution_count": 4,
   "id": "490e5e15-1090-4175-a047-6b1b526c45ab",
   "metadata": {},
   "outputs": [
    {
     "data": {
      "image/png": "[encoded data removed]",
      "text/plain": [
       "<Figure size 432x288 with 1 Axes>"
      ]
     },
     "metadata": {
      "needs_background": "light"
     },
     "output_type": "display_data"
    }
   ],
   "source": [
    "plt.plot([5,10,25,40,45],ordered_frequencies.T);\n",
    "plt.xlabel('Time (generations)')\n",
    "plt.ylabel('Frequency')\n",
    "plt.show()"
   ]
  },
  {
   "cell_type": "code",
   "execution_count": 5,
   "id": "792573c9-38bf-4619-9819-8302dd2787a6",
   "metadata": {},
   "outputs": [],
   "source": [
    "def growth_numpy(f, t, s):\n",
    "    df = f * (s - np.sum(f * s))\n",
    "    return df"
   ]
  },
  {
   "cell_type": "code",
   "execution_count": 6,
   "id": "b5f1b55e-463f-4880-a5a6-1c9c8ff190db",
   "metadata": {},
   "outputs": [],
   "source": [
    "times = np.arange(0, 49, 0.1)\n",
    "f0 = np.random.random(10)\n",
    "f0 = f0 / sum(f0)\n",
    "s = np.random.random(10) / 10\n"
   ]
  },
  {
   "cell_type": "code",
   "execution_count": 7,
   "id": "7082c751-d991-4ed6-8cc6-b9f943943f46",
   "metadata": {},
   "outputs": [],
   "source": [
    "f_true = odeint(growth_numpy, t=times, y0=f0, args=(s,), rtol=1e-8)"
   ]
  },
  {
   "cell_type": "code",
   "execution_count": 8,
   "id": "54181584-c871-4e79-b0ab-1072d0cc0c9e",
   "metadata": {},
   "outputs": [
    {
     "data": {
      "image/png": "[encoded data removed]",
      "text/plain": [
       "<Figure size 432x288 with 1 Axes>"
      ]
     },
     "metadata": {
      "needs_background": "light"
     },
     "output_type": "display_data"
    }
   ],
   "source": [
    "plt.figure()\n",
    "plt.plot(times, f_true)\n",
    "plt.show()"
   ]
  },
  {
   "cell_type": "code",
   "execution_count": 20,
   "id": "78396dc3-1e0e-46e4-b038-1e04b2aa72b6",
   "metadata": {},
   "outputs": [
    {
     "ename": "AssertionError",
     "evalue": "theano.tensor.jacobian expects a 1 dimensional variable as `expression`. If not use flatten to make it a vector",
     "output_type": "error",
     "traceback": [
      "\u001b[1;31m---------------------------------------------------------------------------\u001b[0m",
      "\u001b[1;31mAssertionError\u001b[0m                            Traceback (most recent call last)",
      "Input \u001b[1;32mIn [20]\u001b[0m, in \u001b[0;36m<module>\u001b[1;34m\u001b[0m\n\u001b[0;32m      6\u001b[0m     df \u001b[38;5;241m=\u001b[39m f[\u001b[38;5;241m0\u001b[39m:N] \u001b[38;5;241m*\u001b[39m s[\u001b[38;5;241m0\u001b[39m] \u001b[38;5;66;03m#- pm.math.sum(s[0] * f[:N]))\u001b[39;00m\n\u001b[0;32m      7\u001b[0m     \u001b[38;5;28;01mreturn\u001b[39;00m df\n\u001b[1;32m----> 9\u001b[0m growth_model \u001b[38;5;241m=\u001b[39m \u001b[43mpm\u001b[49m\u001b[38;5;241;43m.\u001b[39;49m\u001b[43mode\u001b[49m\u001b[38;5;241;43m.\u001b[39;49m\u001b[43mDifferentialEquation\u001b[49m\u001b[43m(\u001b[49m\n\u001b[0;32m     10\u001b[0m \u001b[43m    \u001b[49m\u001b[43mfunc\u001b[49m\u001b[38;5;241;43m=\u001b[39;49m\u001b[43mgrowth\u001b[49m\u001b[43m,\u001b[49m\n\u001b[0;32m     11\u001b[0m \u001b[43m    \u001b[49m\u001b[43mtimes\u001b[49m\u001b[38;5;241;43m=\u001b[39;49m\u001b[43mnp\u001b[49m\u001b[38;5;241;43m.\u001b[39;49m\u001b[43marange\u001b[49m\u001b[43m(\u001b[49m\u001b[38;5;241;43m0.1\u001b[39;49m\u001b[43m,\u001b[49m\u001b[43m \u001b[49m\u001b[38;5;241;43m49\u001b[39;49m\u001b[43m,\u001b[49m\u001b[43m \u001b[49m\u001b[38;5;241;43m0.1\u001b[39;49m\u001b[43m)\u001b[49m\u001b[43m,\u001b[49m\n\u001b[0;32m     12\u001b[0m \u001b[43m    \u001b[49m\u001b[43mn_states\u001b[49m\u001b[38;5;241;43m=\u001b[39;49m\u001b[43mN\u001b[49m\u001b[43m,\u001b[49m\n\u001b[0;32m     13\u001b[0m \u001b[43m    \u001b[49m\u001b[43mn_theta\u001b[49m\u001b[38;5;241;43m=\u001b[39;49m\u001b[43mN\u001b[49m\u001b[43m,\u001b[49m\n\u001b[0;32m     14\u001b[0m \u001b[43m    \u001b[49m\u001b[43mt0\u001b[49m\u001b[38;5;241;43m=\u001b[39;49m\u001b[38;5;241;43m0\u001b[39;49m\u001b[43m,\u001b[49m\u001b[43m   \u001b[49m\n\u001b[0;32m     15\u001b[0m \u001b[43m)\u001b[49m\n\u001b[0;32m     17\u001b[0m \u001b[38;5;28;01mwith\u001b[39;00m pm\u001b[38;5;241m.\u001b[39mModel() \u001b[38;5;28;01mas\u001b[39;00m model:\n\u001b[0;32m     18\u001b[0m     s_ref \u001b[38;5;241m=\u001b[39m pm\u001b[38;5;241m.\u001b[39mmath\u001b[38;5;241m.\u001b[39mconstant(\u001b[38;5;241m0\u001b[39m, ndim\u001b[38;5;241m=\u001b[39m\u001b[38;5;241m1\u001b[39m)\n",
      "File \u001b[1;32m~\\anaconda3\\envs\\phys201\\lib\\site-packages\\pymc3\\ode\\ode.py:98\u001b[0m, in \u001b[0;36mDifferentialEquation.__init__\u001b[1;34m(self, func, times, n_states, n_theta, t0)\u001b[0m\n\u001b[0;32m     96\u001b[0m \u001b[38;5;66;03m# Private\u001b[39;00m\n\u001b[0;32m     97\u001b[0m \u001b[38;5;28mself\u001b[39m\u001b[38;5;241m.\u001b[39m_augmented_times \u001b[38;5;241m=\u001b[39m np\u001b[38;5;241m.\u001b[39minsert(times, \u001b[38;5;241m0\u001b[39m, t0)\u001b[38;5;241m.\u001b[39mastype(floatX)\n\u001b[1;32m---> 98\u001b[0m \u001b[38;5;28mself\u001b[39m\u001b[38;5;241m.\u001b[39m_augmented_func \u001b[38;5;241m=\u001b[39m \u001b[43mutils\u001b[49m\u001b[38;5;241;43m.\u001b[39;49m\u001b[43maugment_system\u001b[49m\u001b[43m(\u001b[49m\u001b[43mfunc\u001b[49m\u001b[43m,\u001b[49m\u001b[43m \u001b[49m\u001b[38;5;28;43mself\u001b[39;49m\u001b[38;5;241;43m.\u001b[39;49m\u001b[43mn_states\u001b[49m\u001b[43m,\u001b[49m\u001b[43m \u001b[49m\u001b[38;5;28;43mself\u001b[39;49m\u001b[38;5;241;43m.\u001b[39;49m\u001b[43mn_theta\u001b[49m\u001b[43m)\u001b[49m\n\u001b[0;32m     99\u001b[0m \u001b[38;5;28mself\u001b[39m\u001b[38;5;241m.\u001b[39m_sens_ic \u001b[38;5;241m=\u001b[39m utils\u001b[38;5;241m.\u001b[39mmake_sens_ic(\u001b[38;5;28mself\u001b[39m\u001b[38;5;241m.\u001b[39mn_states, \u001b[38;5;28mself\u001b[39m\u001b[38;5;241m.\u001b[39mn_theta, floatX)\n\u001b[0;32m    101\u001b[0m \u001b[38;5;66;03m# Cache symbolic sensitivities by the hash of inputs\u001b[39;00m\n",
      "File \u001b[1;32m~\\anaconda3\\envs\\phys201\\lib\\site-packages\\pymc3\\ode\\utils.py:112\u001b[0m, in \u001b[0;36maugment_system\u001b[1;34m(ode_func, n_states, n_theta)\u001b[0m\n\u001b[0;32m    109\u001b[0m t_yhat \u001b[38;5;241m=\u001b[39m tt\u001b[38;5;241m.\u001b[39mstack(yhat, axis\u001b[38;5;241m=\u001b[39m\u001b[38;5;241m0\u001b[39m)\n\u001b[0;32m    111\u001b[0m \u001b[38;5;66;03m# Now compute gradients\u001b[39;00m\n\u001b[1;32m--> 112\u001b[0m J \u001b[38;5;241m=\u001b[39m \u001b[43mtt\u001b[49m\u001b[38;5;241;43m.\u001b[39;49m\u001b[43mjacobian\u001b[49m\u001b[43m(\u001b[49m\u001b[43mt_yhat\u001b[49m\u001b[43m,\u001b[49m\u001b[43m \u001b[49m\u001b[43mt_y\u001b[49m\u001b[43m)\u001b[49m\n\u001b[0;32m    114\u001b[0m Jdfdy \u001b[38;5;241m=\u001b[39m tt\u001b[38;5;241m.\u001b[39mdot(J, dydp)\n\u001b[0;32m    116\u001b[0m grad_f \u001b[38;5;241m=\u001b[39m tt\u001b[38;5;241m.\u001b[39mjacobian(t_yhat, t_p)\n",
      "File \u001b[1;32m~\\anaconda3\\envs\\phys201\\lib\\site-packages\\theano\\gradient.py:1959\u001b[0m, in \u001b[0;36mjacobian\u001b[1;34m(expression, wrt, consider_constant, disconnected_inputs)\u001b[0m\n\u001b[0;32m   1955\u001b[0m \u001b[38;5;66;03m# Check inputs have the right format\u001b[39;00m\n\u001b[0;32m   1956\u001b[0m \u001b[38;5;28;01massert\u001b[39;00m \u001b[38;5;28misinstance\u001b[39m(\n\u001b[0;32m   1957\u001b[0m     expression, Variable\n\u001b[0;32m   1958\u001b[0m ), \u001b[38;5;124m\"\u001b[39m\u001b[38;5;124mtheano.tensor.jacobian expects a Variable as `expression`\u001b[39m\u001b[38;5;124m\"\u001b[39m\n\u001b[1;32m-> 1959\u001b[0m \u001b[38;5;28;01massert\u001b[39;00m expression\u001b[38;5;241m.\u001b[39mndim \u001b[38;5;241m<\u001b[39m \u001b[38;5;241m2\u001b[39m, (\n\u001b[0;32m   1960\u001b[0m     \u001b[38;5;124m\"\u001b[39m\u001b[38;5;124mtheano.tensor.jacobian expects a 1 dimensional variable as \u001b[39m\u001b[38;5;124m\"\u001b[39m\n\u001b[0;32m   1961\u001b[0m     \u001b[38;5;124m\"\u001b[39m\u001b[38;5;124m`expression`. If not use flatten to make it a vector\u001b[39m\u001b[38;5;124m\"\u001b[39m\n\u001b[0;32m   1962\u001b[0m )\n\u001b[0;32m   1964\u001b[0m using_list \u001b[38;5;241m=\u001b[39m \u001b[38;5;28misinstance\u001b[39m(wrt, \u001b[38;5;28mlist\u001b[39m)\n\u001b[0;32m   1965\u001b[0m using_tuple \u001b[38;5;241m=\u001b[39m \u001b[38;5;28misinstance\u001b[39m(wrt, \u001b[38;5;28mtuple\u001b[39m)\n",
      "\u001b[1;31mAssertionError\u001b[0m: theano.tensor.jacobian expects a 1 dimensional variable as `expression`. If not use flatten to make it a vector"
     ]
    }
   ],
   "source": [
    "N = len(f_true[0])\n",
    "\n",
    "N = 2\n",
    "\n",
    "def growth(f, t, s):\n",
    "    df = f[0:N] * s[0] #- pm.math.sum(s[0] * f[:N]))\n",
    "    return df\n",
    "\n",
    "growth_model = pm.ode.DifferentialEquation(\n",
    "    func=growth,\n",
    "    times=np.arange(0.1, 49, 0.1),\n",
    "    n_states=N,\n",
    "    n_theta=N,\n",
    "    t0=0,   \n",
    ")\n",
    "\n",
    "with pm.Model() as model:\n",
    "    s_ref = pm.math.constant(0, ndim=1)\n",
    "    mu = pm.Flat(\"mu\")\n",
    "    sigma = pm.HalfFlat(\"sigma\")\n",
    "    s = pm.Normal(\"s\", mu, sigma, shape = (N - 1))\n",
    "    s_all = pm.math.concatenate((s_ref, s))\n",
    "    \n",
    "    f0 = pm.Dirichlet(\"f0\", a = np.ones(N))\n",
    "    \n",
    "    growth_curves = growth_model(y0 = f0, theta = s)\n",
    "    "
   ]
  },
  {
   "cell_type": "code",
   "execution_count": null,
   "id": "dd6106c3-7a48-4ba7-87f0-d63b8a6196f5",
   "metadata": {},
   "outputs": [],
   "source": []
  }
 ],
 "metadata": {
  "kernelspec": {
   "display_name": "Python 3 (ipykernel)",
   "language": "python",
   "name": "python3"
  },
  "language_info": {
   "codemirror_mode": {
    "name": "ipython",
    "version": 3
   },
   "file_extension": ".py",
   "mimetype": "text/x-python",
   "name": "python",
   "nbconvert_exporter": "python",
   "pygments_lexer": "ipython3",
   "version": "3.9.9"
  }
 },
 "nbformat": 4,
 "nbformat_minor": 5
}
