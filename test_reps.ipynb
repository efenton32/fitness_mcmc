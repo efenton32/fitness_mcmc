{
 "cells": [
  {
   "cell_type": "markdown",
   "id": "3d4cbf35-3917-4e2f-9940-c58adb99e38b",
   "metadata": {},
   "source": [
    "# Fitness MCMC Documentation Notebook"
   ]
  },
  {
   "cell_type": "code",
   "execution_count": 1,
   "id": "1fc72457",
   "metadata": {},
   "outputs": [
    {
     "name": "stderr",
     "output_type": "stream",
     "text": [
      "WARNING (theano.tensor.blas): Using NumPy C-API based implementation for BLAS functions.\n"
     ]
    }
   ],
   "source": [
    "#Standard Imports\n",
    "import numpy as np\n",
    "import pymc3 as pm\n",
    "import pandas as pd\n",
    "import matplotlib.pyplot as plt\n",
    "import seaborn as sns\n",
    "import arviz as az"
   ]
  },
  {
   "cell_type": "code",
   "execution_count": 2,
   "id": "c00950b6-d44e-456f-b00d-da60ba9facff",
   "metadata": {},
   "outputs": [],
   "source": [
    "#Imports from fitness mcmc package \n",
    "import fitness_mcmc\n",
    "import fitness_mcmc.data_io as io \n",
    "import fitness_mcmc.fitness_mcmc as m"
   ]
  },
  {
   "cell_type": "markdown",
   "id": "9e91f577-f7a8-4397-8d40-4a8417bd9aa4",
   "metadata": {},
   "source": [
    "### Load and sort based on barcode"
   ]
  },
  {
   "cell_type": "markdown",
   "id": "5493f62d-bf71-487e-81cf-e014a5213cb3",
   "metadata": {},
   "source": [
    "The two trials don't have lineages ordered the same way, so sort both to have matching barcodes"
   ]
  },
  {
   "cell_type": "code",
   "execution_count": 3,
   "id": "77cf0617-7d31-4380-9ba1-a4254c766076",
   "metadata": {},
   "outputs": [],
   "source": [
    "data_2, time, counts_2 = io.load_data(\"filtered_counts_ypd_dmso_2.txt\")\n",
    "data_025, time, counts_025 = io.load_data(\"filtered_counts_ypd_dmso_0.25.txt\")\n",
    "\n",
    "bc_2 = data_2[\"BC\"].to_numpy()\n",
    "bc_025 = data_025[\"BC\"].to_numpy()\n",
    "\n",
    "thing_2 = []\n",
    "thing_025 = []\n",
    "\n",
    "for bc in bc_2:\n",
    "    if bc in bc_025:\n",
    "        thing_2.append(counts_2[np.argwhere(bc_2 == bc)][0,0])\n",
    "        thing_025.append(counts_025[np.argwhere(bc_025 == bc)][0,0])\n",
    "\n",
    "idx = np.flipud(np.argsort(np.sum(thing_2, axis = 1)))\n",
    "\n",
    "ordered_2 = np.array(thing_2)[idx]\n",
    "ordered_025 = np.array(thing_025)[idx]\n",
    "\n",
    "# fig, axs = plt.subplots(1, 2)\n",
    "# axs[0].plot(time, ordered_2.T)\n",
    "# axs[1].plot(time, ordered_025.T)\n",
    "# plt.show()"
   ]
  },
  {
   "cell_type": "code",
   "execution_count": 4,
   "id": "95a051d8-0d33-4c43-8e06-ad75b69ec579",
   "metadata": {},
   "outputs": [],
   "source": [
    "ordered_counts = np.array([ordered_2, ordered_025]).transpose([1, 2, 0])\n",
    "# ordered_counts = ordered_2.reshape([-1, 5, 1])\n",
    "fitness_model = m.Fitness_Model(ordered_counts, time, s_ref = 0)\n",
    "\n"
   ]
  },
  {
   "cell_type": "code",
   "execution_count": 5,
   "id": "c3d02512-0e5b-4260-bdd0-1c1c55688f21",
   "metadata": {},
   "outputs": [
    {
     "data": {
      "text/html": [
       "\n",
       "    <div>\n",
       "        <style>\n",
       "            /* Turns off some styling */\n",
       "            progress {\n",
       "                /* gets rid of default border in Firefox and Opera. */\n",
       "                border: none;\n",
       "                /* Needs to be in here for Safari polyfill so background images work as expected. */\n",
       "                background-size: auto;\n",
       "            }\n",
       "            .progress-bar-interrupted, .progress-bar-interrupted::-webkit-progress-bar {\n",
       "                background: #F44336;\n",
       "            }\n",
       "        </style>\n",
       "      <progress value='5001' class='' max='5001' style='width:300px; height:20px; vertical-align: middle;'></progress>\n",
       "      100.00% [5001/5001 00:21<00:00 logp = -89,672, ||grad|| = 6,835.6]\n",
       "    </div>\n",
       "    "
      ],
      "text/plain": [
       "<IPython.core.display.HTML object>"
      ]
     },
     "metadata": {},
     "output_type": "display_data"
    },
    {
     "name": "stderr",
     "output_type": "stream",
     "text": [
      "\n"
     ]
    },
    {
     "name": "stdout",
     "output_type": "stream",
     "text": [
      "\n"
     ]
    }
   ],
   "source": [
    "fitness_model.find_MAP()"
   ]
  },
  {
   "cell_type": "code",
   "execution_count": null,
   "id": "9d1faaeb-ad1b-4294-b33a-0ae82a613bec",
   "metadata": {},
   "outputs": [
    {
     "name": "stdout",
     "output_type": "stream",
     "text": [
      "(742, 5, 2)\n",
      "(2, 741, 1)\n"
     ]
    },
    {
     "ename": "ValueError",
     "evalue": "operands could not be broadcast together with shapes (2,741,1) (741,5,1) ",
     "output_type": "error",
     "traceback": [
      "\u001b[1;31m---------------------------------------------------------------------------\u001b[0m",
      "\u001b[1;31mValueError\u001b[0m                                Traceback (most recent call last)",
      "Input \u001b[1;32mIn [14]\u001b[0m, in \u001b[0;36m<module>\u001b[1;34m\u001b[0m\n\u001b[0;32m      3\u001b[0m \u001b[38;5;28mprint\u001b[39m(fitness_model\u001b[38;5;241m.\u001b[39mmap_estimate[\u001b[38;5;124m\"\u001b[39m\u001b[38;5;124mf0\u001b[39m\u001b[38;5;124m\"\u001b[39m][:,\u001b[38;5;241m1\u001b[39m:,\u001b[38;5;28;01mNone\u001b[39;00m]\u001b[38;5;241m.\u001b[39mshape)\n\u001b[0;32m      4\u001b[0m \u001b[38;5;66;03m# f_pred[1:,:,:] = (fitness_model.map_estimate[\"f0\"][:,1:,:]\u001b[39;00m\n\u001b[0;32m      5\u001b[0m \u001b[38;5;66;03m#             * np.exp(fitness_model.map_estimate[\"s\"] * fitness_model.times)\u001b[39;00m\n\u001b[0;32m      6\u001b[0m \u001b[38;5;66;03m#         )\u001b[39;00m\n\u001b[0;32m      8\u001b[0m \u001b[38;5;28mprint\u001b[39m(\n\u001b[1;32m----> 9\u001b[0m     (\u001b[43mfitness_model\u001b[49m\u001b[38;5;241;43m.\u001b[39;49m\u001b[43mmap_estimate\u001b[49m\u001b[43m[\u001b[49m\u001b[38;5;124;43m\"\u001b[39;49m\u001b[38;5;124;43mf0\u001b[39;49m\u001b[38;5;124;43m\"\u001b[39;49m\u001b[43m]\u001b[49m\u001b[43m[\u001b[49m\u001b[43m:\u001b[49m\u001b[43m,\u001b[49m\u001b[38;5;241;43m1\u001b[39;49m\u001b[43m:\u001b[49m\u001b[43m,\u001b[49m\u001b[38;5;28;43;01mNone\u001b[39;49;00m\u001b[43m]\u001b[49m\n\u001b[0;32m     10\u001b[0m \u001b[43m            \u001b[49m\u001b[38;5;241;43m*\u001b[39;49m\u001b[43m \u001b[49m\u001b[43mnp\u001b[49m\u001b[38;5;241;43m.\u001b[39;49m\u001b[43mexp\u001b[49m\u001b[43m(\u001b[49m\u001b[43mfitness_model\u001b[49m\u001b[38;5;241;43m.\u001b[39;49m\u001b[43mmap_estimate\u001b[49m\u001b[43m[\u001b[49m\u001b[38;5;124;43m\"\u001b[39;49m\u001b[38;5;124;43ms\u001b[39;49m\u001b[38;5;124;43m\"\u001b[39;49m\u001b[43m]\u001b[49m\u001b[43m \u001b[49m\u001b[38;5;241;43m*\u001b[39;49m\u001b[43m \u001b[49m\u001b[43mfitness_model\u001b[49m\u001b[38;5;241;43m.\u001b[39;49m\u001b[43mtimes\u001b[49m\u001b[43m)\u001b[49m\n\u001b[0;32m     11\u001b[0m         )\u001b[38;5;241m.\u001b[39mshape)\n",
      "\u001b[1;31mValueError\u001b[0m: operands could not be broadcast together with shapes (2,741,1) (741,5,1) "
     ]
    }
   ],
   "source": [
    "f_pred = np.zeros_like(fitness_model.data)\n",
    "print(f_pred.shape)\n",
    "print(fitness_model.map_estimate[\"f0\"][:,1:,None].shape)\n",
    "# f_pred[1:,:,:] = (fitness_model.map_estimate[\"f0\"][:,1:,:]\n",
    "#             * np.exp(fitness_model.map_estimate[\"s\"] * fitness_model.times)\n",
    "#         )\n",
    "\n",
    "print(\n",
    "    (fitness_model.map_estimate[\"f0\"][:,1:,None]\n",
    "            * np.exp(fitness_model.map_estimate[\"s\"] * fitness_model.times)\n",
    "        ).shape)"
   ]
  },
  {
   "cell_type": "code",
   "execution_count": null,
   "id": "1aed07c0-f2e9-4582-a78f-8f1fecf578e1",
   "metadata": {},
   "outputs": [],
   "source": []
  }
 ],
 "metadata": {
  "kernelspec": {
   "display_name": "Python 3 (ipykernel)",
   "language": "python",
   "name": "python3"
  },
  "language_info": {
   "codemirror_mode": {
    "name": "ipython",
    "version": 3
   },
   "file_extension": ".py",
   "mimetype": "text/x-python",
   "name": "python",
   "nbconvert_exporter": "python",
   "pygments_lexer": "ipython3",
   "version": "3.9.9"
  }
 },
 "nbformat": 4,
 "nbformat_minor": 5
}
