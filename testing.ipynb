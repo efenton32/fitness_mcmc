{
 "cells": [
  {
   "cell_type": "code",
   "execution_count": 1,
   "metadata": {
    "collapsed": true
   },
   "outputs": [
    {
     "name": "stderr",
     "output_type": "stream",
     "text": [
      "WARNING (theano.configdefaults): g++ not available, if using conda: `conda install m2w64-toolchain`\n",
      "WARNING (theano.configdefaults): g++ not detected ! Theano will be unable to execute optimized C-implementations (for both CPU and GPU) and will default to Python implementations. Performance will be severely degraded. To remove this warning, set Theano flags cxx to an empty string.\n",
      "WARNING (theano.tensor.blas): Using NumPy C-API based implementation for BLAS functions.\n"
     ]
    },
    {
     "ename": "FileNotFoundError",
     "evalue": "[Errno 2] No such file or directory: 'pop1_gluL_1_1.csv'",
     "output_type": "error",
     "traceback": [
      "\u001B[1;31m---------------------------------------------------------------------------\u001B[0m",
      "\u001B[1;31mFileNotFoundError\u001B[0m                         Traceback (most recent call last)",
      "Cell \u001B[1;32mIn[1], line 10\u001B[0m\n\u001B[0;32m      8\u001B[0m \u001B[38;5;28;01mimport\u001B[39;00m \u001B[38;5;21;01mfitness_mcmc\u001B[39;00m\u001B[38;5;21;01m.\u001B[39;00m\u001B[38;5;21;01mdata_io\u001B[39;00m \u001B[38;5;28;01mas\u001B[39;00m \u001B[38;5;21;01mio\u001B[39;00m\n\u001B[0;32m      9\u001B[0m \u001B[38;5;28;01mimport\u001B[39;00m \u001B[38;5;21;01mfitness_mcmc\u001B[39;00m\u001B[38;5;21;01m.\u001B[39;00m\u001B[38;5;21;01mfitness_mcmc\u001B[39;00m \u001B[38;5;28;01mas\u001B[39;00m \u001B[38;5;21;01mm\u001B[39;00m\n\u001B[1;32m---> 10\u001B[0m \u001B[38;5;28;01mimport\u001B[39;00m \u001B[38;5;21;01mfitness_mcmc\u001B[39;00m\u001B[38;5;21;01m.\u001B[39;00m\u001B[38;5;21;01mformat_raw\u001B[39;00m \u001B[38;5;28;01mas\u001B[39;00m \u001B[38;5;21;01mraw\u001B[39;00m\n",
      "File \u001B[1;32m~\\Documents\\Desai_Lab\\LTEE\\Fitness_code\\fitness_mcmc\\fitness_mcmc\\format_raw.py:104\u001B[0m\n\u001B[0;32m    100\u001B[0m         out\u001B[38;5;241m.\u001B[39mclose()\n\u001B[0;32m    101\u001B[0m         \u001B[38;5;28mprint\u001B[39m(\u001B[38;5;124m\"\u001B[39m\u001B[38;5;124mformatting done\u001B[39m\u001B[38;5;124m\"\u001B[39m)\n\u001B[1;32m--> 104\u001B[0m \u001B[43mformat_data\u001B[49m\u001B[43m(\u001B[49m\u001B[38;5;124;43m\"\u001B[39;49m\u001B[38;5;124;43mpop1\u001B[39;49m\u001B[38;5;124;43m\"\u001B[39;49m\u001B[43m,\u001B[49m\u001B[43m \u001B[49m\u001B[38;5;124;43m\"\u001B[39;49m\u001B[38;5;124;43mgluL\u001B[39;49m\u001B[38;5;124;43m\"\u001B[39;49m\u001B[43m,\u001B[49m\u001B[43m \u001B[49m\u001B[38;5;241;43m3\u001B[39;49m\u001B[43m)\u001B[49m\n",
      "File \u001B[1;32m~\\Documents\\Desai_Lab\\LTEE\\Fitness_code\\fitness_mcmc\\fitness_mcmc\\format_raw.py:76\u001B[0m, in \u001B[0;36mformat_data\u001B[1;34m(population, environment, replicates)\u001B[0m\n\u001B[0;32m     74\u001B[0m first_read \u001B[38;5;241m=\u001B[39m pd\u001B[38;5;241m.\u001B[39mread_csv(data_file, sep\u001B[38;5;241m=\u001B[39m\u001B[38;5;124m\"\u001B[39m\u001B[38;5;124m,\u001B[39m\u001B[38;5;124m\"\u001B[39m, header\u001B[38;5;241m=\u001B[39m\u001B[38;5;241m0\u001B[39m)\n\u001B[0;32m     75\u001B[0m lim \u001B[38;5;241m=\u001B[39m \u001B[38;5;28mlen\u001B[39m(first_read\u001B[38;5;241m.\u001B[39mindex)\n\u001B[1;32m---> 76\u001B[0m \u001B[38;5;28;01mwith\u001B[39;00m \u001B[38;5;28;43mopen\u001B[39;49m\u001B[43m(\u001B[49m\u001B[43mlist_file\u001B[49m\u001B[43m,\u001B[49m\u001B[43m \u001B[49m\u001B[38;5;124;43m\"\u001B[39;49m\u001B[38;5;124;43mrt\u001B[39;49m\u001B[38;5;124;43m\"\u001B[39;49m\u001B[43m)\u001B[49m \u001B[38;5;28;01mas\u001B[39;00m g:\n\u001B[0;32m     77\u001B[0m     reader \u001B[38;5;241m=\u001B[39m csv\u001B[38;5;241m.\u001B[39mreader(g)\n\u001B[0;32m     78\u001B[0m     labels \u001B[38;5;241m=\u001B[39m \u001B[38;5;28mnext\u001B[39m(reader)\n",
      "\u001B[1;31mFileNotFoundError\u001B[0m: [Errno 2] No such file or directory: 'pop1_gluL_1_1.csv'"
     ]
    }
   ],
   "source": [
    "import numpy as np\n",
    "import pymc3 as pm\n",
    "import pandas as pd\n",
    "import matplotlib.pyplot as plt\n",
    "import seaborn as sns\n",
    "import arviz as az\n",
    "import fitness_mcmc\n",
    "import fitness_mcmc.data_io as io\n",
    "import fitness_mcmc.fitness_mcmc as m\n",
    "import fitness_mcmc.format_raw as raw"
   ]
  },
  {
   "cell_type": "code",
   "execution_count": 5,
   "outputs": [
    {
     "name": "stdout",
     "output_type": "stream",
     "text": [
      "formatting done\n",
      "[[[  1710]\n",
      "  [   423]\n",
      "  [   255]\n",
      "  [   674]\n",
      "  [     0]]\n",
      "\n",
      " [[  1767]\n",
      "  [   454]\n",
      "  [   265]\n",
      "  [   706]\n",
      "  [     0]]\n",
      "\n",
      " [[  1981]\n",
      "  [   553]\n",
      "  [   486]\n",
      "  [  4610]\n",
      "  [     0]]\n",
      "\n",
      " [[  1885]\n",
      "  [   403]\n",
      "  [   285]\n",
      "  [   730]\n",
      "  [     0]]\n",
      "\n",
      " [[  2119]\n",
      "  [   550]\n",
      "  [   526]\n",
      "  [  4938]\n",
      "  [     0]]\n",
      "\n",
      " [[  2207]\n",
      "  [   607]\n",
      "  [   418]\n",
      "  [  1085]\n",
      "  [     0]]\n",
      "\n",
      " [[  2182]\n",
      "  [   512]\n",
      "  [   337]\n",
      "  [  1025]\n",
      "  [     0]]\n",
      "\n",
      " [[  1853]\n",
      "  [   472]\n",
      "  [   278]\n",
      "  [   792]\n",
      "  [     0]]\n",
      "\n",
      " [[  2247]\n",
      "  [   527]\n",
      "  [   336]\n",
      "  [   877]\n",
      "  [     0]]\n",
      "\n",
      " [[  2069]\n",
      "  [   518]\n",
      "  [   291]\n",
      "  [   822]\n",
      "  [     0]]\n",
      "\n",
      " [[  2095]\n",
      "  [   520]\n",
      "  [   345]\n",
      "  [   988]\n",
      "  [     0]]\n",
      "\n",
      " [[  2066]\n",
      "  [   506]\n",
      "  [   351]\n",
      "  [   959]\n",
      "  [     0]]\n",
      "\n",
      " [[  2064]\n",
      "  [   537]\n",
      "  [   311]\n",
      "  [  1008]\n",
      "  [     0]]\n",
      "\n",
      " [[  1970]\n",
      "  [   471]\n",
      "  [   254]\n",
      "  [   751]\n",
      "  [     0]]\n",
      "\n",
      " [[  1930]\n",
      "  [   487]\n",
      "  [   348]\n",
      "  [   826]\n",
      "  [     0]]\n",
      "\n",
      " [[  2209]\n",
      "  [   532]\n",
      "  [   344]\n",
      "  [  1094]\n",
      "  [     0]]\n",
      "\n",
      " [[  2080]\n",
      "  [   490]\n",
      "  [   318]\n",
      "  [   902]\n",
      "  [     0]]\n",
      "\n",
      " [[  1764]\n",
      "  [   509]\n",
      "  [   392]\n",
      "  [  3472]\n",
      "  [     0]]\n",
      "\n",
      " [[  2106]\n",
      "  [   532]\n",
      "  [   353]\n",
      "  [   963]\n",
      "  [     0]]\n",
      "\n",
      " [[   790]\n",
      "  [   326]\n",
      "  [   295]\n",
      "  [     0]\n",
      "  [     0]]\n",
      "\n",
      " [[   975]\n",
      "  [   494]\n",
      "  [   559]\n",
      "  [   337]\n",
      "  [     0]]\n",
      "\n",
      " [[  1389]\n",
      "  [  1258]\n",
      "  [  1686]\n",
      "  [  1517]\n",
      "  [   340]]\n",
      "\n",
      " [[  1128]\n",
      "  [  1088]\n",
      "  [  1629]\n",
      "  [  1484]\n",
      "  [   434]]\n",
      "\n",
      " [[  1678]\n",
      "  [  1359]\n",
      "  [  2449]\n",
      "  [  2062]\n",
      "  [   654]]\n",
      "\n",
      " [[  2715]\n",
      "  [  3023]\n",
      "  [  6082]\n",
      "  [  4799]\n",
      "  [  1971]]\n",
      "\n",
      " [[  3466]\n",
      "  [  4451]\n",
      "  [ 13920]\n",
      "  [ 25064]\n",
      "  [  6951]]\n",
      "\n",
      " [[  4878]\n",
      "  [  7595]\n",
      "  [ 23435]\n",
      "  [ 18240]\n",
      "  [ 11216]]\n",
      "\n",
      " [[  1642]\n",
      "  [  2413]\n",
      "  [ 14512]\n",
      "  [ 16453]\n",
      "  [ 15007]]\n",
      "\n",
      " [[  8769]\n",
      "  [ 20352]\n",
      "  [114201]\n",
      "  [181115]\n",
      "  [164902]]]\n",
      "               0       7       14        21        28        35\n",
      "BC                                                             \n",
      "0.0      13439.0  1710.0    423.0     255.0     674.0       0.0\n",
      "1.0      12698.0  1767.0    454.0     265.0     706.0       0.0\n",
      "2.0      16799.0  1981.0    553.0     486.0    4610.0       0.0\n",
      "3.0      12833.0  1885.0    403.0     285.0     730.0       0.0\n",
      "4.0      17980.0  2119.0    550.0     526.0    4938.0       0.0\n",
      "5.0      16960.0  2207.0    607.0     418.0    1085.0       0.0\n",
      "6.0      16440.0  2182.0    512.0     337.0    1025.0       0.0\n",
      "7.0      13905.0  1853.0    472.0     278.0     792.0       0.0\n",
      "8.0      15732.0  2247.0    527.0     336.0     877.0       0.0\n",
      "9.0      16299.0  2069.0    518.0     291.0     822.0       0.0\n",
      "10.0     15367.0  2095.0    520.0     345.0     988.0       0.0\n",
      "11.0     17082.0  2066.0    506.0     351.0     959.0       0.0\n",
      "12.0     14917.0  2064.0    537.0     311.0    1008.0       0.0\n",
      "13.0     14290.0  1970.0    471.0     254.0     751.0       0.0\n",
      "14.0     15905.0  1930.0    487.0     348.0     826.0       0.0\n",
      "15.0     17227.0  2209.0    532.0     344.0    1094.0       0.0\n",
      "16.0     13856.0  2080.0    490.0     318.0     902.0       0.0\n",
      "17.0     13012.0  1764.0    509.0     392.0    3472.0       0.0\n",
      "18.0     15562.0  2106.0    532.0     353.0     963.0       0.0\n",
      "500.0     3987.0   790.0    326.0     295.0       0.0       0.0\n",
      "1000.0    3558.0   975.0    494.0     559.0     337.0       0.0\n",
      "1500.0    3581.0  1389.0   1258.0    1686.0    1517.0     340.0\n",
      "2000.0    3370.0  1128.0   1088.0    1629.0    1484.0     434.0\n",
      "5000.0    4237.0  1678.0   1359.0    2449.0    2062.0     654.0\n",
      "10000.0   5077.0  2715.0   3023.0    6082.0    4799.0    1971.0\n",
      "15000.0   5610.0  3466.0   4451.0   13920.0   25064.0    6951.0\n",
      "30000.0   5122.0  4878.0   7595.0   23435.0   18240.0   11216.0\n",
      "40000.0   1427.0  1642.0   2413.0   14512.0   16453.0   15007.0\n",
      "50000.0   4507.0  8769.0  20352.0  114201.0  181115.0  164902.0\n"
     ]
    },
    {
     "ename": "ValueError",
     "evalue": "x and y must have same first dimension, but have shapes (6,) and (1, 5, 29)",
     "output_type": "error",
     "traceback": [
      "\u001B[1;31m---------------------------------------------------------------------------\u001B[0m",
      "\u001B[1;31mValueError\u001B[0m                                Traceback (most recent call last)",
      "Cell \u001B[1;32mIn[5], line 13\u001B[0m\n\u001B[0;32m      9\u001B[0m \u001B[38;5;28mprint\u001B[39m(data)\n\u001B[0;32m     11\u001B[0m ordered_frequencies \u001B[38;5;241m=\u001B[39m ordered_counts \u001B[38;5;241m/\u001B[39m np\u001B[38;5;241m.\u001B[39msum(ordered_counts, axis \u001B[38;5;241m=\u001B[39m \u001B[38;5;241m0\u001B[39m)\n\u001B[1;32m---> 13\u001B[0m \u001B[43mplt\u001B[49m\u001B[38;5;241;43m.\u001B[39;49m\u001B[43mplot\u001B[49m\u001B[43m(\u001B[49m\u001B[43m[\u001B[49m\u001B[38;5;241;43m0\u001B[39;49m\u001B[43m,\u001B[49m\u001B[38;5;241;43m7\u001B[39;49m\u001B[43m,\u001B[49m\u001B[38;5;241;43m14\u001B[39;49m\u001B[43m,\u001B[49m\u001B[38;5;241;43m21\u001B[39;49m\u001B[43m,\u001B[49m\u001B[38;5;241;43m28\u001B[39;49m\u001B[43m,\u001B[49m\u001B[38;5;241;43m35\u001B[39;49m\u001B[43m]\u001B[49m\u001B[43m,\u001B[49m\u001B[43m \u001B[49m\u001B[43mordered_frequencies\u001B[49m\u001B[38;5;241;43m.\u001B[39;49m\u001B[43mT\u001B[49m\u001B[43m)\u001B[49m\n\u001B[0;32m     14\u001B[0m plt\u001B[38;5;241m.\u001B[39mxlabel(\u001B[38;5;124m'\u001B[39m\u001B[38;5;124mTime (generations)\u001B[39m\u001B[38;5;124m'\u001B[39m)\n\u001B[0;32m     15\u001B[0m plt\u001B[38;5;241m.\u001B[39mylabel(\u001B[38;5;124m'\u001B[39m\u001B[38;5;124mFrequency\u001B[39m\u001B[38;5;124m'\u001B[39m)\n",
      "File \u001B[1;32m~\\anaconda3\\envs\\Fitness_code\\lib\\site-packages\\matplotlib\\pyplot.py:2740\u001B[0m, in \u001B[0;36mplot\u001B[1;34m(scalex, scaley, data, *args, **kwargs)\u001B[0m\n\u001B[0;32m   2738\u001B[0m \u001B[38;5;129m@_copy_docstring_and_deprecators\u001B[39m(Axes\u001B[38;5;241m.\u001B[39mplot)\n\u001B[0;32m   2739\u001B[0m \u001B[38;5;28;01mdef\u001B[39;00m \u001B[38;5;21mplot\u001B[39m(\u001B[38;5;241m*\u001B[39margs, scalex\u001B[38;5;241m=\u001B[39m\u001B[38;5;28;01mTrue\u001B[39;00m, scaley\u001B[38;5;241m=\u001B[39m\u001B[38;5;28;01mTrue\u001B[39;00m, data\u001B[38;5;241m=\u001B[39m\u001B[38;5;28;01mNone\u001B[39;00m, \u001B[38;5;241m*\u001B[39m\u001B[38;5;241m*\u001B[39mkwargs):\n\u001B[1;32m-> 2740\u001B[0m     \u001B[38;5;28;01mreturn\u001B[39;00m gca()\u001B[38;5;241m.\u001B[39mplot(\n\u001B[0;32m   2741\u001B[0m         \u001B[38;5;241m*\u001B[39margs, scalex\u001B[38;5;241m=\u001B[39mscalex, scaley\u001B[38;5;241m=\u001B[39mscaley,\n\u001B[0;32m   2742\u001B[0m         \u001B[38;5;241m*\u001B[39m\u001B[38;5;241m*\u001B[39m({\u001B[38;5;124m\"\u001B[39m\u001B[38;5;124mdata\u001B[39m\u001B[38;5;124m\"\u001B[39m: data} \u001B[38;5;28;01mif\u001B[39;00m data \u001B[38;5;129;01mis\u001B[39;00m \u001B[38;5;129;01mnot\u001B[39;00m \u001B[38;5;28;01mNone\u001B[39;00m \u001B[38;5;28;01melse\u001B[39;00m {}), \u001B[38;5;241m*\u001B[39m\u001B[38;5;241m*\u001B[39mkwargs)\n",
      "File \u001B[1;32m~\\anaconda3\\envs\\Fitness_code\\lib\\site-packages\\matplotlib\\axes\\_axes.py:1662\u001B[0m, in \u001B[0;36mAxes.plot\u001B[1;34m(self, scalex, scaley, data, *args, **kwargs)\u001B[0m\n\u001B[0;32m   1419\u001B[0m \u001B[38;5;124;03m\"\"\"\u001B[39;00m\n\u001B[0;32m   1420\u001B[0m \u001B[38;5;124;03mPlot y versus x as lines and/or markers.\u001B[39;00m\n\u001B[0;32m   1421\u001B[0m \n\u001B[1;32m   (...)\u001B[0m\n\u001B[0;32m   1659\u001B[0m \u001B[38;5;124;03m(``'green'``) or hex strings (``'#008000'``).\u001B[39;00m\n\u001B[0;32m   1660\u001B[0m \u001B[38;5;124;03m\"\"\"\u001B[39;00m\n\u001B[0;32m   1661\u001B[0m kwargs \u001B[38;5;241m=\u001B[39m cbook\u001B[38;5;241m.\u001B[39mnormalize_kwargs(kwargs, mlines\u001B[38;5;241m.\u001B[39mLine2D)\n\u001B[1;32m-> 1662\u001B[0m lines \u001B[38;5;241m=\u001B[39m [\u001B[38;5;241m*\u001B[39m\u001B[38;5;28mself\u001B[39m\u001B[38;5;241m.\u001B[39m_get_lines(\u001B[38;5;241m*\u001B[39margs, data\u001B[38;5;241m=\u001B[39mdata, \u001B[38;5;241m*\u001B[39m\u001B[38;5;241m*\u001B[39mkwargs)]\n\u001B[0;32m   1663\u001B[0m \u001B[38;5;28;01mfor\u001B[39;00m line \u001B[38;5;129;01min\u001B[39;00m lines:\n\u001B[0;32m   1664\u001B[0m     \u001B[38;5;28mself\u001B[39m\u001B[38;5;241m.\u001B[39madd_line(line)\n",
      "File \u001B[1;32m~\\anaconda3\\envs\\Fitness_code\\lib\\site-packages\\matplotlib\\axes\\_base.py:311\u001B[0m, in \u001B[0;36m_process_plot_var_args.__call__\u001B[1;34m(self, data, *args, **kwargs)\u001B[0m\n\u001B[0;32m    309\u001B[0m     this \u001B[38;5;241m+\u001B[39m\u001B[38;5;241m=\u001B[39m args[\u001B[38;5;241m0\u001B[39m],\n\u001B[0;32m    310\u001B[0m     args \u001B[38;5;241m=\u001B[39m args[\u001B[38;5;241m1\u001B[39m:]\n\u001B[1;32m--> 311\u001B[0m \u001B[38;5;28;01myield from\u001B[39;00m \u001B[38;5;28;43mself\u001B[39;49m\u001B[38;5;241;43m.\u001B[39;49m\u001B[43m_plot_args\u001B[49m\u001B[43m(\u001B[49m\n\u001B[0;32m    312\u001B[0m \u001B[43m    \u001B[49m\u001B[43mthis\u001B[49m\u001B[43m,\u001B[49m\u001B[43m \u001B[49m\u001B[43mkwargs\u001B[49m\u001B[43m,\u001B[49m\u001B[43m \u001B[49m\u001B[43mambiguous_fmt_datakey\u001B[49m\u001B[38;5;241;43m=\u001B[39;49m\u001B[43mambiguous_fmt_datakey\u001B[49m\u001B[43m)\u001B[49m\n",
      "File \u001B[1;32m~\\anaconda3\\envs\\Fitness_code\\lib\\site-packages\\matplotlib\\axes\\_base.py:504\u001B[0m, in \u001B[0;36m_process_plot_var_args._plot_args\u001B[1;34m(self, tup, kwargs, return_kwargs, ambiguous_fmt_datakey)\u001B[0m\n\u001B[0;32m    501\u001B[0m     \u001B[38;5;28mself\u001B[39m\u001B[38;5;241m.\u001B[39maxes\u001B[38;5;241m.\u001B[39myaxis\u001B[38;5;241m.\u001B[39mupdate_units(y)\n\u001B[0;32m    503\u001B[0m \u001B[38;5;28;01mif\u001B[39;00m x\u001B[38;5;241m.\u001B[39mshape[\u001B[38;5;241m0\u001B[39m] \u001B[38;5;241m!=\u001B[39m y\u001B[38;5;241m.\u001B[39mshape[\u001B[38;5;241m0\u001B[39m]:\n\u001B[1;32m--> 504\u001B[0m     \u001B[38;5;28;01mraise\u001B[39;00m \u001B[38;5;167;01mValueError\u001B[39;00m(\u001B[38;5;124mf\u001B[39m\u001B[38;5;124m\"\u001B[39m\u001B[38;5;124mx and y must have same first dimension, but \u001B[39m\u001B[38;5;124m\"\u001B[39m\n\u001B[0;32m    505\u001B[0m                      \u001B[38;5;124mf\u001B[39m\u001B[38;5;124m\"\u001B[39m\u001B[38;5;124mhave shapes \u001B[39m\u001B[38;5;132;01m{\u001B[39;00mx\u001B[38;5;241m.\u001B[39mshape\u001B[38;5;132;01m}\u001B[39;00m\u001B[38;5;124m and \u001B[39m\u001B[38;5;132;01m{\u001B[39;00my\u001B[38;5;241m.\u001B[39mshape\u001B[38;5;132;01m}\u001B[39;00m\u001B[38;5;124m\"\u001B[39m)\n\u001B[0;32m    506\u001B[0m \u001B[38;5;28;01mif\u001B[39;00m x\u001B[38;5;241m.\u001B[39mndim \u001B[38;5;241m>\u001B[39m \u001B[38;5;241m2\u001B[39m \u001B[38;5;129;01mor\u001B[39;00m y\u001B[38;5;241m.\u001B[39mndim \u001B[38;5;241m>\u001B[39m \u001B[38;5;241m2\u001B[39m:\n\u001B[0;32m    507\u001B[0m     \u001B[38;5;28;01mraise\u001B[39;00m \u001B[38;5;167;01mValueError\u001B[39;00m(\u001B[38;5;124mf\u001B[39m\u001B[38;5;124m\"\u001B[39m\u001B[38;5;124mx and y can be no greater than 2D, but have \u001B[39m\u001B[38;5;124m\"\u001B[39m\n\u001B[0;32m    508\u001B[0m                      \u001B[38;5;124mf\u001B[39m\u001B[38;5;124m\"\u001B[39m\u001B[38;5;124mshapes \u001B[39m\u001B[38;5;132;01m{\u001B[39;00mx\u001B[38;5;241m.\u001B[39mshape\u001B[38;5;132;01m}\u001B[39;00m\u001B[38;5;124m and \u001B[39m\u001B[38;5;132;01m{\u001B[39;00my\u001B[38;5;241m.\u001B[39mshape\u001B[38;5;132;01m}\u001B[39;00m\u001B[38;5;124m\"\u001B[39m)\n",
      "\u001B[1;31mValueError\u001B[0m: x and y must have same first dimension, but have shapes (6,) and (1, 5, 29)"
     ]
    },
    {
     "data": {
      "text/plain": "<Figure size 640x480 with 1 Axes>",
      "image/png": "[encoded data removed]"
     },
     "metadata": {},
     "output_type": "display_data"
    }
   ],
   "source": [
    "population = \"pop1\"\n",
    "environment = \"gluL\"\n",
    "replicate = 2\n",
    "r = population + \"_\" + environment + str(replicate)\n",
    "raw.format_data(population, environment, 3)\n",
    "\n",
    "data, time, ordered_counts = io.load_data(\"LTEE_\" + r + \".csv\", return_ordered = False, delimiter=\",\")\n",
    "print(ordered_counts.astype(\"int\"))\n",
    "print(data)\n",
    "\n",
    "ordered_frequencies = ordered_counts / np.sum(ordered_counts, axis = 0)\n",
    "\n",
    "plt.plot([0,7,14,21,28,35], ordered_frequencies.T)\n",
    "plt.xlabel('Time (generations)')\n",
    "plt.ylabel('Frequency')\n",
    "plt.show()"
   ],
   "metadata": {
    "collapsed": false,
    "pycharm": {
     "name": "#%%\n"
    }
   }
  },
  {
   "cell_type": "code",
   "execution_count": 18,
   "outputs": [
    {
     "name": "stderr",
     "output_type": "stream",
     "text": [
      "C:\\Users\\jedwa\\anaconda3\\envs\\Fitness_code\\lib\\site-packages\\theano\\tensor\\elemwise.py:826: RuntimeWarning: invalid value encountered in true_divide\n",
      "  variables = ufunc(*ufunc_args, **ufunc_kwargs)\n"
     ]
    },
    {
     "data": {
      "text/plain": "<IPython.core.display.HTML object>",
      "text/html": "\n    <div>\n        <style>\n            /* Turns off some styling */\n            progress {\n                /* gets rid of default border in Firefox and Opera. */\n                border: none;\n                /* Needs to be in here for Safari polyfill so background images work as expected. */\n                background-size: auto;\n            }\n            .progress-bar-interrupted, .progress-bar-interrupted::-webkit-progress-bar {\n                background: #F44336;\n            }\n        </style>\n      <progress value='0' class='' max='5000' style='width:300px; height:20px; vertical-align: middle;'></progress>\n      \n    </div>\n    "
     },
     "metadata": {},
     "output_type": "display_data"
    },
    {
     "name": "stdout",
     "output_type": "stream",
     "text": [
      "\n"
     ]
    }
   ],
   "source": [
    "fitness_model = m.Fitness_Model(ordered_counts, time, s_ref = 1, prior=\"flat\")\n",
    "fitness_model.find_MAP()"
   ],
   "metadata": {
    "collapsed": false,
    "pycharm": {
     "name": "#%%\n"
    }
   }
  },
  {
   "cell_type": "code",
   "execution_count": 19,
   "outputs": [
    {
     "name": "stdout",
     "output_type": "stream",
     "text": [
      "[[ 1.00798098]\n",
      " [ 1.16964209]\n",
      " [ 1.01280557]\n",
      " [ 1.16968248]\n",
      " [ 1.0950027 ]\n",
      " [ 1.09413581]\n",
      " [ 1.00421262]\n",
      " [ 1.01037917]\n",
      " [ 0.9997854 ]\n",
      " [ 1.00621507]\n",
      " [ 0.99532558]\n",
      " [ 1.09874702]\n",
      " [ 1.00723838]\n",
      " [ 0.99553999]\n",
      " [ 1.09439168]\n",
      " [ 1.01467563]\n",
      " [ 1.16833348]\n",
      " [ 1.00555623]\n",
      " [-0.00434231]\n",
      " [-0.0041491 ]\n",
      " [ 1.21732407]\n",
      " [ 1.21900344]\n",
      " [ 1.22290108]\n",
      " [ 1.25774479]\n",
      " [ 1.30452188]\n",
      " [ 1.30002061]\n",
      " [ 1.34799903]\n",
      " [ 1.37365334]]\n",
      "[0.04162227 0.03946238 0.04230454 0.03998815 0.0452747  0.04883042\n",
      " 0.04746533 0.04312633 0.0489428  0.05044205 0.04770338 0.05276635\n",
      " 0.04299792 0.04438573 0.049136   0.0495707  0.04321779 0.0332698\n",
      " 0.04829253 0.01205341 0.01075359 0.01140451 0.01032031 0.01336445\n",
      " 0.01635248 0.01646238 0.02154622 0.00496511 0.02397839]\n"
     ]
    },
    {
     "ename": "UFuncTypeError",
     "evalue": "Cannot cast ufunc 'true_divide' output from dtype('float64') to dtype('int64') with casting rule 'same_kind'",
     "output_type": "error",
     "traceback": [
      "\u001B[1;31m---------------------------------------------------------------------------\u001B[0m",
      "\u001B[1;31mUFuncTypeError\u001B[0m                            Traceback (most recent call last)",
      "Cell \u001B[1;32mIn[19], line 10\u001B[0m\n\u001B[0;32m      8\u001B[0m \u001B[38;5;28mprint\u001B[39m(raw_s)\n\u001B[0;32m      9\u001B[0m \u001B[38;5;28mprint\u001B[39m(vals_f0)\n\u001B[1;32m---> 10\u001B[0m \u001B[43mfitness_model\u001B[49m\u001B[38;5;241;43m.\u001B[39;49m\u001B[43mplot_MAP_estimate\u001B[49m\u001B[43m(\u001B[49m\u001B[38;5;28;43mtype\u001B[39;49m\u001B[43m \u001B[49m\u001B[38;5;241;43m=\u001B[39;49m\u001B[43m \u001B[49m\u001B[38;5;124;43m\"\u001B[39;49m\u001B[38;5;124;43mlin\u001B[39;49m\u001B[38;5;124;43m\"\u001B[39;49m\u001B[43m,\u001B[49m\u001B[43m \u001B[49m\u001B[43mfilename\u001B[49m\u001B[38;5;241;43m=\u001B[39;49m\u001B[38;5;124;43m\"\u001B[39;49m\u001B[38;5;124;43mLTEE_\u001B[39;49m\u001B[38;5;124;43m\"\u001B[39;49m\u001B[43m \u001B[49m\u001B[38;5;241;43m+\u001B[39;49m\u001B[43m \u001B[49m\u001B[43mr\u001B[49m\u001B[43m \u001B[49m\u001B[38;5;241;43m+\u001B[39;49m\u001B[43m \u001B[49m\u001B[38;5;124;43m\"\u001B[39;49m\u001B[38;5;124;43m_freq.png\u001B[39;49m\u001B[38;5;124;43m\"\u001B[39;49m\u001B[43m)\u001B[49m\n",
      "File \u001B[1;32m~\\Documents\\Desai_Lab\\LTEE\\Fitness_code\\fitness_mcmc\\fitness_mcmc\\fitness_mcmc.py:122\u001B[0m, in \u001B[0;36mFitness_Model.plot_MAP_estimate\u001B[1;34m(self, type, filename)\u001B[0m\n\u001B[0;32m    117\u001B[0m \u001B[38;5;28mself\u001B[39m\u001B[38;5;241m.\u001B[39mf_pred[\u001B[38;5;241m1\u001B[39m:, :] \u001B[38;5;241m=\u001B[39m (\u001B[38;5;28mself\u001B[39m\u001B[38;5;241m.\u001B[39mmap_estimate[\u001B[38;5;124m\"\u001B[39m\u001B[38;5;124mf0\u001B[39m\u001B[38;5;124m\"\u001B[39m][\u001B[38;5;241m1\u001B[39m:, \u001B[38;5;28;01mNone\u001B[39;00m]\n\u001B[0;32m    118\u001B[0m     \u001B[38;5;241m*\u001B[39m np\u001B[38;5;241m.\u001B[39mexp(\u001B[38;5;28mself\u001B[39m\u001B[38;5;241m.\u001B[39mmap_estimate[\u001B[38;5;124m\"\u001B[39m\u001B[38;5;124ms\u001B[39m\u001B[38;5;124m\"\u001B[39m] \u001B[38;5;241m*\u001B[39m \u001B[38;5;28mself\u001B[39m\u001B[38;5;241m.\u001B[39mtimes)\n\u001B[0;32m    119\u001B[0m )\n\u001B[0;32m    120\u001B[0m \u001B[38;5;28mself\u001B[39m\u001B[38;5;241m.\u001B[39mf_pred[\u001B[38;5;241m0\u001B[39m] \u001B[38;5;241m=\u001B[39m (\u001B[38;5;28mself\u001B[39m\u001B[38;5;241m.\u001B[39mmap_estimate[\u001B[38;5;124m\"\u001B[39m\u001B[38;5;124mf0\u001B[39m\u001B[38;5;124m\"\u001B[39m][\u001B[38;5;241m0\u001B[39m]\n\u001B[0;32m    121\u001B[0m     \u001B[38;5;241m*\u001B[39m np\u001B[38;5;241m.\u001B[39mexp(\u001B[38;5;28mself\u001B[39m\u001B[38;5;241m.\u001B[39ms_ref_val \u001B[38;5;241m*\u001B[39m \u001B[38;5;28mself\u001B[39m\u001B[38;5;241m.\u001B[39mtimes) )\n\u001B[1;32m--> 122\u001B[0m \u001B[38;5;28mself\u001B[39m\u001B[38;5;241m.\u001B[39mf_pred \u001B[38;5;241m/\u001B[39m\u001B[38;5;241m=\u001B[39m np\u001B[38;5;241m.\u001B[39msum(\u001B[38;5;28mself\u001B[39m\u001B[38;5;241m.\u001B[39mf_pred, axis \u001B[38;5;241m=\u001B[39m \u001B[38;5;241m0\u001B[39m)\n\u001B[0;32m    124\u001B[0m fig, axs \u001B[38;5;241m=\u001B[39m plt\u001B[38;5;241m.\u001B[39msubplots(\u001B[38;5;241m1\u001B[39m,\u001B[38;5;241m2\u001B[39m)\n\u001B[0;32m    125\u001B[0m \u001B[38;5;28;01mif\u001B[39;00m \u001B[38;5;28mtype\u001B[39m \u001B[38;5;241m==\u001B[39m \u001B[38;5;124m\"\u001B[39m\u001B[38;5;124mlog_y\u001B[39m\u001B[38;5;124m\"\u001B[39m:\n",
      "\u001B[1;31mUFuncTypeError\u001B[0m: Cannot cast ufunc 'true_divide' output from dtype('float64') to dtype('int64') with casting rule 'same_kind'"
     ]
    }
   ],
   "source": [
    "raw_s = fitness_model.map_estimate[\"s\"]\n",
    "vals_f0 = fitness_model.map_estimate[\"f0\"]\n",
    "vals_s = np.zeros((29))\n",
    "vals_s[0] = 0\n",
    "for i in range(0, len(raw_s)):\n",
    "    vals_s[i + 1] = raw_s[i]\n",
    "vals_data = fitness_model.data\n",
    "print(raw_s)\n",
    "print(vals_f0)\n",
    "fitness_model.plot_MAP_estimate(type = \"lin\", filename=\"LTEE_\" + r + \"_freq.png\")"
   ],
   "metadata": {
    "collapsed": false,
    "pycharm": {
     "name": "#%%\n"
    }
   }
  },
  {
   "cell_type": "code",
   "execution_count": null,
   "outputs": [],
   "source": [
    "out = open(\"Fitness_\" + r + \".csv\", \"w\")\n",
    "header = \"BC,0,7,14,21,28,35,s,f0\"\n",
    "bc = [0,1,2,3,4,5,6,7,8,9,10,11,12,13,14,15,16,17,18,500,1000,1500,2000,5000,10000,15000,30000,40000,50000]\n",
    "out.write(header)\n",
    "out.write(\"\\n\")\n",
    "for l in range(0, len(vals_s)):\n",
    "    holder = str(bc[l])\n",
    "    for h in range(0, 6):\n",
    "        holder += ',' + str(vals_data[l][h])\n",
    "    holder += ',' + str(vals_s[l]) + ',' + str(vals_f0[l])\n",
    "    out.write(holder)\n",
    "    out.write(\"\\n\")\n",
    "out.close()"
   ],
   "metadata": {
    "collapsed": false,
    "pycharm": {
     "name": "#%%\n"
    }
   }
  },
  {
   "cell_type": "code",
   "execution_count": null,
   "outputs": [],
   "source": [
    "traj = m.create_trajectories(vals_f0, vals_s, time)\n",
    "err_data = m.sample_lineages(traj, 100000)\n",
    "print(err_data)"
   ],
   "metadata": {
    "collapsed": false,
    "pycharm": {
     "name": "#%%\n"
    }
   }
  },
  {
   "cell_type": "code",
   "execution_count": null,
   "outputs": [],
   "source": [
    "out = open(\"C:\\\\Users\\\\jedwa\\\\Documents\\\\Desai_Lab\\\\LTEE\\\\Fitness_code\\\\fitness_mcmc\\\\fitness_mcmc\\\\experimental_data\\\\Sim_counts_\" + r + \".csv\", \"w\")\n",
    "header = \"BC,0,7,14,21,28,35\"\n",
    "bc = [0,1,2,3,4,5,6,7,8,9,10,11,12,13,14,15,16,17,18,500,1000,1500,2000,5000,10000,15000,30000,40000,50000]\n",
    "out.write(header)\n",
    "out.write(\"\\n\")\n",
    "for l in range(0, len(vals_s)):\n",
    "    holder = str(bc[l])\n",
    "    for h in range(0, 6):\n",
    "        holder += ',' + str(err_data[l][h])\n",
    "    out.write(holder)\n",
    "    out.write(\"\\n\")\n",
    "out.close()"
   ],
   "metadata": {
    "collapsed": false,
    "pycharm": {
     "name": "#%%\n"
    }
   }
  },
  {
   "cell_type": "code",
   "execution_count": null,
   "outputs": [],
   "source": [
    "data, time, err_counts = io.load_data(\"Sim_counts_\" + r + \".csv\", return_ordered = False, delimiter=\",\")\n",
    "print(err_counts.astype(\"int\"))\n",
    "print(data)\n",
    "\n",
    "err_frequencies = err_counts / np.sum(err_counts, axis = 0)\n",
    "\n",
    "plt.plot([0,7,14,21,28,35], err_frequencies.T)\n",
    "plt.xlabel('Time (generations)')\n",
    "plt.ylabel('Frequency')\n",
    "plt.show()"
   ],
   "metadata": {
    "collapsed": false,
    "pycharm": {
     "name": "#%%\n"
    }
   }
  },
  {
   "cell_type": "code",
   "execution_count": null,
   "outputs": [],
   "source": [
    "err_model = m.Fitness_Model(err_counts, time, s_ref = 0, prior=\"flat\")\n",
    "err_model.find_MAP()"
   ],
   "metadata": {
    "collapsed": false,
    "pycharm": {
     "name": "#%%\n"
    }
   }
  },
  {
   "cell_type": "code",
   "execution_count": null,
   "outputs": [],
   "source": [
    "#err_model.plot_MAP_estimate(type = \"lin\", filename=\"Error_\" + r + \"_freq.png\")\n",
    "e_raw_s = err_model.map_estimate[\"s\"]\n",
    "e_vals_f0 = err_model.map_estimate[\"f0\"]\n",
    "e_vals_s = np.zeros((29))\n",
    "e_vals_s[0] = 0\n",
    "for i in range(0, len(e_raw_s)):\n",
    "    e_vals_s[i + 1] = e_raw_s[i]\n",
    "e_vals_data = err_model.data"
   ],
   "metadata": {
    "collapsed": false,
    "pycharm": {
     "name": "#%%\n"
    }
   }
  },
  {
   "cell_type": "code",
   "execution_count": null,
   "outputs": [],
   "source": [],
   "metadata": {
    "collapsed": false,
    "pycharm": {
     "name": "#%%\n"
    }
   }
  },
  {
   "cell_type": "code",
   "execution_count": null,
   "outputs": [],
   "source": [
    "out = open(\"FitnessError_\" + r + \".csv\", \"w\")\n",
    "header = \"BC,s,f0,s_err,f0_err\"\n",
    "bc = [0,1,2,3,4,5,6,7,8,9,10,11,12,13,14,15,16,17,18,500,1000,1500,2000,5000,10000,15000,30000,40000,50000]\n",
    "out.write(header)\n",
    "out.write(\"\\n\")\n",
    "for l in range(0, len(e_vals_s)):\n",
    "    holder = str(bc[l])\n",
    "    holder += ',' + str(vals_s[l]) + ',' + str(vals_f0[l]) + ',' + str(e_vals_s[l]) + ',' + str(e_vals_f0[l])\n",
    "    out.write(holder)\n",
    "    out.write(\"\\n\")\n",
    "out.close()"
   ],
   "metadata": {
    "collapsed": false,
    "pycharm": {
     "name": "#%%\n"
    }
   }
  }
 ],
 "metadata": {
  "kernelspec": {
   "name": "pycharm-6da2105",
   "language": "python",
   "display_name": "PyCharm (Fitness_code)"
  },
  "language_info": {
   "codemirror_mode": {
    "name": "ipython",
    "version": 2
   },
   "file_extension": ".py",
   "mimetype": "text/x-python",
   "name": "python",
   "nbconvert_exporter": "python",
   "pygments_lexer": "ipython2",
   "version": "2.7.6"
  }
 },
 "nbformat": 4,
 "nbformat_minor": 0
}